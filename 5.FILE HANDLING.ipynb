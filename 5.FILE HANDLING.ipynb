{
 "cells": [
  {
   "cell_type": "markdown",
   "id": "30d4e06a-ec3c-425c-8a79-9ce0beb0483b",
   "metadata": {},
   "source": [
    "# FILE HANDLING\n",
    "\n",
    "## Why File Handling?\n",
    "\n",
    "- File handling allows you to **store data permanently** in files.\n",
    "- Python provides built-in functions to **read, write, and modify** files.\n",
    "- Python has several functions for creating, reading, updating, and deleting files.\n",
    "\n",
    "\n",
    "\n",
    "---\n",
    "\n",
    "## Opening a File\n",
    "- The open() function takes two parameters; filename, and mode.\n",
    "\n",
    "There are four different methods (modes) for opening a file:\n",
    "- \"r\" - Read - Default value. Opens a file for reading, error if the file does not exist\n",
    "\n",
    "- \"a\" - Append - Opens a file for appending, creates the file if it does not exist\n",
    "\n",
    "- \"w\" - Write - Opens a file for writing, creates the file if it does not exist\n",
    "\n",
    "- \"x\" - Create - Creates the specified file, returns an error if the file exists\n",
    "\n",
    "In addition you can specify if the file should be handled as binary or text mode\n",
    "\n",
    "- \"t\" - Text - Default value. Text mode\n",
    "\n",
    "- \"b\" - Binary - Binary mode (e.g. images)\n",
    "\n",
    "\n",
    "\n",
    "\n"
   ]
  },
  {
   "cell_type": "markdown",
   "id": "cce3deca-c452-4c5c-836b-76216523ed75",
   "metadata": {},
   "source": [
    "## syntax"
   ]
  },
  {
   "cell_type": "code",
   "execution_count": null,
   "id": "34928d91-84da-4085-8f4a-4042961a1426",
   "metadata": {},
   "outputs": [],
   "source": [
    "file = open('example.txt', 'mode')\n",
    "#eg:\n",
    "f = open(\"demofile.txt\", \"rt\")\n",
    "f = open(\"demofile.txt\")\n",
    "#Because \"r\" for read, and \"t\" for text are the default values, you do not need to specify them.\n",
    "#Make sure the file exists, or else you will get an error.\n",
    "\n",
    "\n"
   ]
  },
  {
   "cell_type": "markdown",
   "id": "cda94ae7-b42f-459a-86a5-9749ea82ce2b",
   "metadata": {},
   "source": [
    "| Mode  | Description                   |\n",
    "| ----- | ----------------------------- |\n",
    "| `'r'` | Read (default)                |\n",
    "| `'w'` | Write (overwrites file)       |\n",
    "| `'a'` | Append (adds to end of file)  |\n",
    "| `'x'` | Create (fails if file exists) |\n",
    "| `'b'` | Binary mode                   |\n",
    "| `'t'` | Text mode (default)           |\n"
   ]
  },
  {
   "cell_type": "markdown",
   "id": "2c44d084-38e1-4a5a-8312-1c4ab1909472",
   "metadata": {},
   "source": [
    "Always close the file after use:\n",
    "\n",
    "**file.close()**\n",
    "\n",
    "Or use:\n",
    "\n",
    "**with open('file.txt', 'r') as f:\n",
    "    # auto-closes file**\n"
   ]
  },
  {
   "cell_type": "markdown",
   "id": "380c051e-b7f7-4f15-92a4-81425a187c5b",
   "metadata": {},
   "source": [
    "## Reading a File\n",
    "- The open() function returns a file object, which has a read() method for reading the content of the file.\n",
    "\n",
    "- If the file is located in a different location, you will have to specify the file path, like this:\n",
    "\n",
    "f = open(\"D:\\\\myfiles\\example.txt\")\n",
    "print(f.read())\n",
    "\n",
    "- You can also use the with statement when opening a file.Then you do not have to worry about closing your files, the with statement takes care of that.\n",
    "\n",
    "- It is a good practice to always close the file when you are done with it.If you are not using the with statement, you must write a close statement in order to close the file:\n",
    "\n",
    "\n",
    "\n",
    "\n",
    "\n",
    "\n"
   ]
  },
  {
   "cell_type": "code",
   "execution_count": null,
   "id": "5dfc5857-3438-4e2a-a6e6-78eae29dae54",
   "metadata": {},
   "outputs": [],
   "source": [
    "# Read entire content\n",
    "with open('example.txt', 'r') as f:\n",
    "    content = f.read()\n",
    "    print(content)\n",
    "\n",
    "# Read line by line\n",
    "with open('example.txt', 'r') as f:\n",
    "    for line in f:\n",
    "        print(line.strip()) #you can read the whole file, line by line\n",
    "\n",
    "# Read first N characters\n",
    "with open('example.txt', 'r') as f:\n",
    "    print(f.read(10))\n"
   ]
  },
  {
   "cell_type": "markdown",
   "id": "4146c506-e3fe-4217-99b9-da7bec807270",
   "metadata": {},
   "source": [
    "## Read Lines\n"
   ]
  },
  {
   "cell_type": "code",
   "execution_count": null,
   "id": "150f444e-6b31-4d00-9322-1c49f85fd4d0",
   "metadata": {},
   "outputs": [],
   "source": [
    "\n",
    "#You can return one line by using the readline() method:\n",
    "with open(\"example.txt\") as f:\n",
    "  print(f.readline())\n",
    "#By calling readline() two times, you can read the two first lines:\n",
    "with open(\"example.txt\") as f:\n",
    "  print(f.readline())\n",
    "  print(f.readline())\n"
   ]
  },
  {
   "cell_type": "markdown",
   "id": "f8e5ed04-1843-44f5-b65f-ba20f0731a37",
   "metadata": {},
   "source": [
    "## Writing to a File\n",
    "\"w\" - Write - will overwrite any existing content\n",
    "\n"
   ]
  },
  {
   "cell_type": "code",
   "execution_count": null,
   "id": "40f81c9a-9568-4a9c-bece-a92f460ca636",
   "metadata": {},
   "outputs": [],
   "source": [
    "# Overwrites if file exists\n",
    "with open('example.txt', 'w') as f:\n",
    "    f.write(\"Hello, world!\\n\")\n",
    "    f.write(\"This is Python file handling.\\n\")\n"
   ]
  },
  {
   "cell_type": "markdown",
   "id": "09c407dc-39e7-4cf0-9545-e6de1deab15c",
   "metadata": {},
   "source": [
    "## Appending to a File\n",
    "\"a\" - Append - will append to the end of the file\n",
    "\n"
   ]
  },
  {
   "cell_type": "code",
   "execution_count": null,
   "id": "68b10ad1-85f6-46bc-9e71-f52072dbf32d",
   "metadata": {},
   "outputs": [],
   "source": [
    "# Adds to end of file\n",
    "with open('example.txt', 'a') as f:\n",
    "    f.write(\"Adding a new line.\\n\")\n"
   ]
  },
  {
   "cell_type": "markdown",
   "id": "f25f253b-6843-4221-85b3-2e26e8fc5184",
   "metadata": {},
   "source": [
    "## Create a New File\n",
    "\n",
    "\"x\" - Create - will create a file, returns an error if the file exists\n",
    "\n",
    "  f = open(\"myfile.txt\", \"x\")\n",
    "\n",
    "Result: a new empty file is created.\n",
    "\n",
    "Note: If the file already exist, an error will be raised.\n",
    "\n"
   ]
  },
  {
   "cell_type": "markdown",
   "id": "a8e56724-e08d-4d8d-ad9a-13741d6da4f8",
   "metadata": {},
   "source": [
    "## Reading & Writing Together"
   ]
  },
  {
   "cell_type": "code",
   "execution_count": null,
   "id": "aff6a766-5eb7-457e-846d-f1c9330981d2",
   "metadata": {},
   "outputs": [],
   "source": [
    "with open('example.txt', 'r+') as f:\n",
    "    data = f.read()\n",
    "    f.write(\"\\nEnd of file.\")\n"
   ]
  },
  {
   "cell_type": "markdown",
   "id": "d4630d45-6937-490e-9357-65af77c5eb02",
   "metadata": {},
   "source": [
    "## Delete a File\n",
    "To delete a file, you must import the OS module, and run its os.remove() function:\n",
    "\n"
   ]
  },
  {
   "cell_type": "code",
   "execution_count": null,
   "id": "d94a47e7-8fbc-4768-a1f1-9097f6777d04",
   "metadata": {},
   "outputs": [],
   "source": [
    "import os\n",
    "os.remove(\"demofile.txt\")   #Remove the file \"demofile.txt\":\n",
    "\n"
   ]
  },
  {
   "cell_type": "markdown",
   "id": "936d8ca9-0b14-4930-a9e2-fa43ec87da3a",
   "metadata": {},
   "source": [
    "## Check if File exist:\n"
   ]
  },
  {
   "cell_type": "code",
   "execution_count": null,
   "id": "466dad4e-204a-4df9-8e75-cae7b7f6d0a8",
   "metadata": {},
   "outputs": [],
   "source": [
    "import os\n",
    "if os.path.exists(\"demofile.txt\"):\n",
    "  os.remove(\"demofile.txt\")\n",
    "else:\n",
    "  print(\"The file does not exist\")\n"
   ]
  },
  {
   "cell_type": "markdown",
   "id": "8bcc325f-f7ab-493f-87dc-0a11b8107cac",
   "metadata": {},
   "source": [
    "## Delete Folder\n",
    "To delete an entire folder, use the os.rmdir() method:\n",
    "Note: You can only remove empty folders.\n",
    "\n",
    "\n"
   ]
  },
  {
   "cell_type": "code",
   "execution_count": null,
   "id": "fe4a8c95-de00-4307-9070-a1032aefb5fb",
   "metadata": {},
   "outputs": [],
   "source": [
    "import os\n",
    "os.rmdir(\"myfolder\")\n",
    "\n"
   ]
  },
  {
   "cell_type": "markdown",
   "id": "d2ec48e9-3dd8-4f5e-ab57-c78fa83be1b3",
   "metadata": {},
   "source": [
    "## Working with Files Example"
   ]
  },
  {
   "cell_type": "code",
   "execution_count": null,
   "id": "5a81dd67-44b7-4d3a-a3c6-ce413f1478b4",
   "metadata": {},
   "outputs": [],
   "source": [
    "# Count number of lines in a file\n",
    "with open('example.txt', 'r') as f:\n",
    "    lines = f.readlines()\n",
    "    print(\"Total lines:\", len(lines))\n"
   ]
  },
  {
   "cell_type": "markdown",
   "id": "32845de0-bad5-45db-b9df-52651dc5e5fa",
   "metadata": {},
   "source": [
    "##  Handling File Exceptions"
   ]
  },
  {
   "cell_type": "code",
   "execution_count": null,
   "id": "01b1456d-1d8d-40a1-ae20-a19dd8ac88f4",
   "metadata": {},
   "outputs": [],
   "source": [
    "try:\n",
    "    with open('missing.txt', 'r') as f:\n",
    "        print(f.read())\n",
    "except FileNotFoundError:\n",
    "    print(\"File does not exist!\")\n"
   ]
  },
  {
   "cell_type": "markdown",
   "id": "55022540-5f1b-4a77-b6a8-77712d0a67ef",
   "metadata": {},
   "source": [
    "## Practice Problems"
   ]
  },
  {
   "cell_type": "code",
   "execution_count": null,
   "id": "149af5d0-d7d5-4269-8536-698a761d446f",
   "metadata": {},
   "outputs": [],
   "source": [
    "# 1. Write user input to a file\n",
    "name = input(\"Enter your name: \")\n",
    "with open('user.txt', 'w') as f:\n",
    "    f.write(f\"Name: {name}\")\n",
    "\n",
    "# 2. Read the file and print its content\n",
    "with open('user.txt', 'r') as f:\n",
    "    print(f.read())\n",
    "\n",
    "# 3. Append timestamp to a log file\n",
    "from datetime import datetime\n",
    "with open('log.txt', 'a') as f:\n",
    "    f.write(f\"Accessed at: {datetime.now()}\\n\")\n"
   ]
  },
  {
   "cell_type": "markdown",
   "id": "5d453c7e-4a14-4249-bc5d-468fb0f72632",
   "metadata": {},
   "source": [
    "## Summary Table\n"
   ]
  },
  {
   "cell_type": "markdown",
   "id": "7c5ae3ba-84dd-4603-b284-7e4b6a6ea705",
   "metadata": {},
   "source": [
    "| Function       | Use                        |\n",
    "| -------------- | -------------------------- |\n",
    "| `open()`       | Open a file                |\n",
    "| `read()`       | Read entire content        |\n",
    "| `readline()`   | Read single line           |\n",
    "| `readlines()`  | Read all lines into a list |\n",
    "| `write()`      | Write to file              |\n",
    "| `writelines()` | Write multiple lines       |\n",
    "| `close()`      | Close the file manually    |\n"
   ]
  },
  {
   "cell_type": "markdown",
   "id": "79c0deab-f475-4780-9e93-2fc932799ee0",
   "metadata": {},
   "source": [
    "File handling is essential for data processing, logging, saving models, or working with CSV, JSON, or text files in real-world projects."
   ]
  },
  {
   "cell_type": "markdown",
   "id": "db2be5eb-c7a3-4117-b70d-10cde698fab4",
   "metadata": {},
   "source": [
    "## extensions of jupyter,excel,py,docx\n",
    ".ipynb\n",
    ".xlsx\n",
    ".py\n",
    ".docx"
   ]
  },
  {
   "cell_type": "code",
   "execution_count": null,
   "id": "a47deadb-3980-4934-909c-09d73570454b",
   "metadata": {},
   "outputs": [],
   "source": []
  }
 ],
 "metadata": {
  "kernelspec": {
   "display_name": "Python 3 (ipykernel)",
   "language": "python",
   "name": "python3"
  },
  "language_info": {
   "codemirror_mode": {
    "name": "ipython",
    "version": 3
   },
   "file_extension": ".py",
   "mimetype": "text/x-python",
   "name": "python",
   "nbconvert_exporter": "python",
   "pygments_lexer": "ipython3",
   "version": "3.13.1"
  }
 },
 "nbformat": 4,
 "nbformat_minor": 5
}
