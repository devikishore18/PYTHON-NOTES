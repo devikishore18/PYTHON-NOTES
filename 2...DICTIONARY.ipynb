{
 "cells": [
  {
   "cell_type": "markdown",
   "id": "a37f89e8-f219-4cfe-8dda-9afe3d153d2c",
   "metadata": {},
   "source": [
    "# DICTIONARY"
   ]
  },
  {
   "cell_type": "markdown",
   "id": "ea1515b8-1e45-4591-9889-8a8de999405a",
   "metadata": {},
   "source": [
    "## What is a Dictionary?\n",
    "\n",
    "- A **dictionary** is an **unordered**, **mutable** collection of **key-value pairs**.\n",
    "- Keys must be **unique** and **immutable** (e.g., strings, numbers, tuples).\n",
    "- Values can be of **any data type**.\n",
    "\n",
    "### Syntax:\n",
    "```python\n",
    "my_dict = {'key1': value1, 'key2': value2}\n"
   ]
  },
  {
   "cell_type": "markdown",
   "id": "538c7073-ae49-43c7-8bab-25f00f997802",
   "metadata": {},
   "source": [
    "## Creating Dictionaries"
   ]
  },
  {
   "cell_type": "code",
   "execution_count": null,
   "id": "35526cc5-a054-4c7f-b273-881a79baf778",
   "metadata": {},
   "outputs": [],
   "source": [
    "# Simple dictionary\n",
    "student = {\n",
    "    'name': 'Alice',\n",
    "    'age': 22,\n",
    "    'grade': 'A'\n",
    "}\n",
    "\n",
    "# Dictionary with different value types\n",
    "info = {\n",
    "    'id': 101,\n",
    "    'name': 'John',\n",
    "    'skills': ['Python', 'SQL'],\n",
    "    'active': True\n",
    "}\n",
    "\n",
    "# Empty dictionary\n",
    "empty = {}\n"
   ]
  },
  {
   "cell_type": "markdown",
   "id": "afb88022-4b51-4caa-8e6f-a60e02bd25fe",
   "metadata": {},
   "source": [
    "## Accessing & Modifying Values"
   ]
  },
  {
   "cell_type": "code",
   "execution_count": null,
   "id": "6c07b871-04c0-4fd5-b382-fd8b5a63d1a7",
   "metadata": {},
   "outputs": [],
   "source": [
    "print(student['name'])       # 'Alice'\n",
    "\n",
    "# Add a new key\n",
    "student['major'] = 'CS'\n",
    "\n",
    "# Update existing key\n",
    "student['age'] = 23\n",
    "\n",
    "# Use get() to avoid error if key doesn't exist\n",
    "print(student.get('gpa', 'Not Available'))\n"
   ]
  },
  {
   "cell_type": "markdown",
   "id": "fcbbd6b3-6fef-468a-8f22-f9802753f9ce",
   "metadata": {},
   "source": [
    "## Removing Items"
   ]
  },
  {
   "cell_type": "code",
   "execution_count": null,
   "id": "61ae3b72-02ed-4061-9f8e-4dd0f6f01223",
   "metadata": {},
   "outputs": [],
   "source": [
    "del student['grade']            # Delete by key\n",
    "student.pop('age')              # Remove and return value\n",
    "student.clear()                 # Empty the dictionary"
   ]
  },
  {
   "cell_type": "markdown",
   "id": "5a8fbb9b-37c6-4220-82b0-ec66cf8b61e6",
   "metadata": {},
   "source": [
    "## Looping Through Dictionary\n"
   ]
  },
  {
   "cell_type": "code",
   "execution_count": null,
   "id": "af939b2c-a944-4664-b796-fdfc7ae834ab",
   "metadata": {},
   "outputs": [],
   "source": [
    "person = {'name': 'Bob', 'age': 30}\n",
    "\n",
    "# Keys\n",
    "for key in person:\n",
    "    print(key)\n",
    "\n",
    "# Values\n",
    "for value in person.values():\n",
    "    print(value)\n",
    "\n",
    "# Key-Value pairs\n",
    "for key, value in person.items():\n",
    "    print(f\"{key}: {value}\")\n"
   ]
  },
  {
   "cell_type": "markdown",
   "id": "58a5c4c9-cc06-4b1a-8d4a-a22ade5a9ca4",
   "metadata": {},
   "source": [
    "## Dictionary Methods"
   ]
  },
  {
   "cell_type": "markdown",
   "id": "8aa9fcc1-828c-4574-af08-f231ce148a19",
   "metadata": {},
   "source": [
    "| Method          | Description                            |\n",
    "| --------------- | -------------------------------------- |\n",
    "| `get(key)`      | Returns value or `None` if key missing |\n",
    "| `keys()`        | Returns all keys                       |\n",
    "| `values()`      | Returns all values                     |\n",
    "| `items()`       | Returns (key, value) pairs             |\n",
    "| `update(dict2)` | Merges another dict                    |\n",
    "| `pop(key)`      | Removes key and returns value          |\n",
    "| `clear()`       | Removes all items                      |\n"
   ]
  },
  {
   "cell_type": "markdown",
   "id": "23021791-dfd5-4db1-b5d3-f5962031e023",
   "metadata": {},
   "source": [
    "## Nested Dictionaries"
   ]
  },
  {
   "cell_type": "code",
   "execution_count": null,
   "id": "aabf1b40-5b7f-4516-899d-4809bb3c0e56",
   "metadata": {},
   "outputs": [],
   "source": [
    "students = {\n",
    "    's1': {'name': 'Alice', 'grade': 'A'},\n",
    "    's2': {'name': 'Bob', 'grade': 'B'}\n",
    "}\n",
    "\n",
    "print(students['s1']['name'])   # Alice\n"
   ]
  },
  {
   "cell_type": "markdown",
   "id": "77d19e93-513b-4175-a917-0a1052745fb1",
   "metadata": {},
   "source": [
    "## Practice Problems"
   ]
  },
  {
   "cell_type": "code",
   "execution_count": 2,
   "id": "45cff7d8-58ea-4eed-a2a7-14ab0f5b4f23",
   "metadata": {},
   "outputs": [
    {
     "name": "stdout",
     "output_type": "stream",
     "text": [
      "John\n",
      "Mary\n",
      "Mike\n"
     ]
    }
   ],
   "source": [
    "# 1. Create a dictionary of 3 employees and print all names\n",
    "employees = {\n",
    "    101: {'name': 'John', 'dept': 'HR'},\n",
    "    102: {'name': 'Mary', 'dept': 'Finance'},\n",
    "    103: {'name': 'Mike', 'dept': 'IT'}\n",
    "}\n",
    "for e in employees.values():\n",
    "    print(e['name'])"
   ]
  },
  {
   "cell_type": "code",
   "execution_count": 3,
   "id": "4ec96e88-15a7-4cbd-aeff-6f47f233c434",
   "metadata": {},
   "outputs": [
    {
     "name": "stdout",
     "output_type": "stream",
     "text": [
      "{'h': 1, 'e': 1, 'l': 3, 'o': 2, 'w': 1, 'r': 1, 'd': 1}\n"
     ]
    }
   ],
   "source": [
    "# 2. Count character frequency in a string\n",
    "text = \"hello world\"\n",
    "freq = {}\n",
    "for char in text:\n",
    "    if char != ' ':\n",
    "        freq[char] = freq.get(char, 0) + 1\n",
    "print(freq)"
   ]
  },
  {
   "cell_type": "code",
   "execution_count": 4,
   "id": "aa2c2123-ee30-492b-a470-03709a38cf31",
   "metadata": {},
   "outputs": [
    {
     "name": "stdout",
     "output_type": "stream",
     "text": [
      "{'x': 1, 'y': 3, 'z': 4}\n"
     ]
    }
   ],
   "source": [
    "# 3. Merge two dictionaries\n",
    "a = {'x': 1, 'y': 2}\n",
    "b = {'y': 3, 'z': 4}\n",
    "a.update(b)\n",
    "print(a)"
   ]
  },
  {
   "cell_type": "markdown",
   "id": "49dac25e-d132-4a32-901e-fc54d2d4efc7",
   "metadata": {},
   "source": [
    "Dictionaries are ideal when you need to map one set of values to another — such as names to phone numbers, IDs to records, or items to prices."
   ]
  }
 ],
 "metadata": {
  "kernelspec": {
   "display_name": "Python 3 (ipykernel)",
   "language": "python",
   "name": "python3"
  },
  "language_info": {
   "codemirror_mode": {
    "name": "ipython",
    "version": 3
   },
   "file_extension": ".py",
   "mimetype": "text/x-python",
   "name": "python",
   "nbconvert_exporter": "python",
   "pygments_lexer": "ipython3",
   "version": "3.13.1"
  }
 },
 "nbformat": 4,
 "nbformat_minor": 5
}
