{
 "cells": [
  {
   "cell_type": "markdown",
   "id": "c478c6c9-3cb0-4c85-8a2c-4e100d4d83af",
   "metadata": {},
   "source": [
    "# 🧮 Python `math` Module\n",
    "\n",
    "The **`math` module** in Python provides mathematical functions and constants.  \n",
    "It is built-in (no need to install) and is widely used for performing **arithmetic, logarithmic, trigonometric, and other mathematical operations**.\n",
    "\n",
    "---\n",
    "\n",
    "## 📘 How to Use\n",
    "\n",
    "```python\n",
    "import math\n"
   ]
  },
  {
   "cell_type": "code",
   "execution_count": 1,
   "id": "75ba7e20-5d5c-4dc7-bb27-17bf97558acb",
   "metadata": {},
   "outputs": [],
   "source": [
    "import math"
   ]
  },
  {
   "cell_type": "markdown",
   "id": "2c4d9576-22aa-44ea-b918-cc8ace9cc182",
   "metadata": {},
   "source": [
    "## 🧰 Commonly Used Functions\n",
    "1. Rounding and Absolute Value"
   ]
  },
  {
   "cell_type": "code",
   "execution_count": 2,
   "id": "8b3b07e1-48a0-4333-ae60-34f68e7924c3",
   "metadata": {},
   "outputs": [
    {
     "name": "stdout",
     "output_type": "stream",
     "text": [
      "5\n",
      "4\n",
      "4\n",
      "10.0\n"
     ]
    }
   ],
   "source": [
    "print(math.ceil(4.2))   # 5 → Round up\n",
    "print(math.floor(4.9))  # 4 → Round down\n",
    "print(math.trunc(4.8))  # 4 → Truncate decimal\n",
    "print(math.fabs(-10))   # 10.0 → Absolute value\n"
   ]
  },
  {
   "cell_type": "markdown",
   "id": "4058fd63-0ab6-47dc-85df-a934bc560b43",
   "metadata": {},
   "source": [
    "## 2. Power and Roots"
   ]
  },
  {
   "cell_type": "code",
   "execution_count": 3,
   "id": "4513db90-e6f9-4b6f-9700-898fa5cbb3cc",
   "metadata": {},
   "outputs": [
    {
     "name": "stdout",
     "output_type": "stream",
     "text": [
      "5.0\n",
      "8.0\n",
      "7.38905609893065\n"
     ]
    }
   ],
   "source": [
    "print(math.sqrt(25))      # 5.0 → Square root\n",
    "print(math.pow(2, 3))     # 8.0 → 2^3\n",
    "print(math.exp(2))        # e^2 ≈ 7.389\n"
   ]
  },
  {
   "cell_type": "markdown",
   "id": "782de154-632c-4f0c-bfb2-0363e3b82b5c",
   "metadata": {},
   "source": [
    "## 3. Logarithmic Functions"
   ]
  },
  {
   "cell_type": "code",
   "execution_count": 4,
   "id": "a32eef54-3072-4f00-b96c-0df381f327ad",
   "metadata": {},
   "outputs": [
    {
     "name": "stdout",
     "output_type": "stream",
     "text": [
      "2.302585092994046\n",
      "2.0\n",
      "3.0\n"
     ]
    }
   ],
   "source": [
    "print(math.log(10))       # Natural log (base e)\n",
    "print(math.log10(100))    # Base 10 log → 2\n",
    "print(math.log2(8))       # Base 2 log → 3\n"
   ]
  },
  {
   "cell_type": "markdown",
   "id": "b4c8b53c-5ae8-4b9c-8231-922a81a5f938",
   "metadata": {},
   "source": [
    "## 4. Trigonometric Functions\n",
    "\n",
    "(All angles are in radians by default)"
   ]
  },
  {
   "cell_type": "code",
   "execution_count": 6,
   "id": "9a98b4c0-f5f7-46de-9afb-b9d2c1f58f94",
   "metadata": {},
   "outputs": [
    {
     "name": "stdout",
     "output_type": "stream",
     "text": [
      "1.0\n",
      "1.0\n",
      "0.9999999999999999\n",
      "180.0\n",
      "3.141592653589793\n"
     ]
    }
   ],
   "source": [
    "print(math.sin(math.pi/2))   # 1.0\n",
    "print(math.cos(0))           # 1.0\n",
    "print(math.tan(math.pi/4))   # 1.0\n",
    "\n",
    "# Conversions\n",
    "print(math.degrees(math.pi))   # 180 degrees\n",
    "print(math.radians(180))       # π radians\n"
   ]
  },
  {
   "cell_type": "markdown",
   "id": "b3861585-16c3-427e-92ca-18d51ae14401",
   "metadata": {},
   "source": [
    "## 5. Factorials and GCD/LCM"
   ]
  },
  {
   "cell_type": "code",
   "execution_count": 7,
   "id": "893f010f-e487-4a82-b826-93f91e16847f",
   "metadata": {},
   "outputs": [
    {
     "name": "stdout",
     "output_type": "stream",
     "text": [
      "120\n",
      "6\n",
      "36\n"
     ]
    }
   ],
   "source": [
    "print(math.factorial(5))   # 120\n",
    "print(math.gcd(12, 18))    # 6\n",
    "print(math.lcm(12, 18))    # 36 (Python 3.9+)\n"
   ]
  },
  {
   "cell_type": "markdown",
   "id": "296b2753-1e28-41ec-b2a0-0973498fa030",
   "metadata": {},
   "source": [
    "## 6. Special Functions"
   ]
  },
  {
   "cell_type": "code",
   "execution_count": 9,
   "id": "1c4a69bf-bb52-4a0f-b01e-132239c3354a",
   "metadata": {},
   "outputs": [
    {
     "name": "stdout",
     "output_type": "stream",
     "text": [
      "True\n",
      "True\n",
      "True\n"
     ]
    }
   ],
   "source": [
    "print(math.isfinite(10))     # True\n",
    "print(math.isinf(float('inf')))  # True\n",
    "print(math.isnan(float('nan')))  # True\n"
   ]
  },
  {
   "cell_type": "markdown",
   "id": "b04ad275-e8ff-4eba-a869-99e10a242eff",
   "metadata": {},
   "source": [
    "## 🎯 Useful Constants"
   ]
  },
  {
   "cell_type": "code",
   "execution_count": 10,
   "id": "68b2d4e0-f673-472b-87e3-c1bd01df4068",
   "metadata": {},
   "outputs": [
    {
     "name": "stdout",
     "output_type": "stream",
     "text": [
      "3.141592653589793\n",
      "2.718281828459045\n",
      "6.283185307179586\n"
     ]
    }
   ],
   "source": [
    "print(math.pi)       # 3.14159...\n",
    "print(math.e)        # 2.71828...\n",
    "print(math.tau)      # 6.28318... (2π)\n",
    "inf = math.inf       # Infinity\n",
    "nan = math.nan       # Not a Number\n"
   ]
  },
  {
   "cell_type": "markdown",
   "id": "30a2d540-240e-4d3f-9531-2c4fb227428c",
   "metadata": {},
   "source": [
    "## 📌 Summary\n",
    "\n",
    "- The math module provides mathematical functions and constants.\n",
    "\n",
    "- Supports rounding, power, roots, logarithms, trigonometry, factorials, and more.\n",
    "\n",
    "- Includes useful constants like π (pi), e, τ, infinity, NaN.\n",
    "\n",
    "- Always use import math before using its functions."
   ]
  }
 ],
 "metadata": {
  "kernelspec": {
   "display_name": "Python 3 (ipykernel)",
   "language": "python",
   "name": "python3"
  },
  "language_info": {
   "codemirror_mode": {
    "name": "ipython",
    "version": 3
   },
   "file_extension": ".py",
   "mimetype": "text/x-python",
   "name": "python",
   "nbconvert_exporter": "python",
   "pygments_lexer": "ipython3",
   "version": "3.13.1"
  }
 },
 "nbformat": 4,
 "nbformat_minor": 5
}
