{
 "cells": [
  {
   "cell_type": "markdown",
   "id": "04d14d4e-566c-42b5-9d97-eab21d0e11ee",
   "metadata": {},
   "source": [
    "#  DATA STRUCTURES"
   ]
  },
  {
   "cell_type": "markdown",
   "id": "384adf4c-cbe7-4328-a1c6-cacda42144f0",
   "metadata": {},
   "source": [
    "## What are Data Structures?\n",
    "\n",
    "Data Structures are ways of organizing and storing data so that they can be accessed and modified efficiently.\n",
    "\n",
    "Python provides built-in data structures that make it easy to manage and work with data.\n"
   ]
  },
  {
   "cell_type": "markdown",
   "id": "ab8cfdd7-3f54-43ac-8bba-1f6992a97daa",
   "metadata": {},
   "source": [
    "# 1.Lists:\n",
    "- Ordered, mutable sequences of elements.\n",
    "- Elements can be of different data types.\n",
    "- Defined using square brackets [].\n",
    "- Support various operations like adding, removing, and modifying elements.\n",
    "- my_list = [1, \"hello\", 3.14]\n",
    "\n",
    "# 2.Tuples:\n",
    "- Ordered, immutable sequences of elements.\n",
    "- Elements can be of different data types.\n",
    "- Defined using parentheses ().\n",
    "- Once created, elements cannot be changed, added, or removed.\n",
    "- my_tuple = (1, \"world\", 2.71)\n",
    "\n",
    "# 3.Sets:\n",
    "- Unordered collections of unique elements.\n",
    "- Mutable, but elements must be immutable (e.g., numbers, strings, tuples).\n",
    "- Defined using curly braces {} or the set() constructor.\n",
    "- Support set operations like union, intersection, and difference.\n",
    "- my_set = {1, 2, 3, 2} # {1, 2, 3}\n",
    "\n",
    "# 4.Dictionaries:\n",
    "- Unordered collections of key-value pairs.\n",
    "- Mutable, allowing modification of values associated with keys.\n",
    "- Keys must be unique and immutable (e.g., numbers, strings, tuples).\n",
    "- Defined using curly braces {} with key-value pairs separated by colons.\n",
    "- my_dict = {\"name\": \"Alice\", \"age\": 30}\n"
   ]
  },
  {
   "cell_type": "markdown",
   "id": "3c1feb6d-5a08-4ea1-9714-3757906727a1",
   "metadata": {},
   "source": [
    "## Visual Summary"
   ]
  },
  {
   "cell_type": "markdown",
   "id": "7fa7f910-148e-4432-8bcc-89c2523d1ecd",
   "metadata": {},
   "source": [
    "| **Data Structure** | **Ordered** | **Mutable** | **Allows Duplicates** | **Key Features**                    | **Typical Use Cases**                      |\n",
    "| ------------------ | ----------- | ----------- | --------------------- | ----------------------------------- | ------------------------------------------ |\n",
    "| **List**           | ✅           | ✅           | ✅                     | Dynamic, indexable sequence         | Store items, dynamic collections           |\n",
    "| **Tuple**          | ✅           | ❌           | ✅                     | Fixed-length, immutable             | Grouping data, function return values      |\n",
    "| **Set**            | ❌           | ✅           | ❌                     | Unordered, unique elements          | Membership testing, eliminating duplicates |\n",
    "| **Dictionary**     | ✅\\*         | ✅           | ❌ (keys only)         | Key-value pairs, fast access        | Mappings, configs, JSON-like structures    |\n",
    "| **String**         | ✅           | ❌           | ✅                     | Immutable sequence of characters    | Text data handling, slicing, search        |\n",
    "| **Range**          | ✅           | ❌           | ✅                     | Efficient immutable number sequence | For loops, numeric iteration               |\n"
   ]
  },
  {
   "cell_type": "markdown",
   "id": "8c627aa8-7158-4523-b7f0-7df3c4119b5e",
   "metadata": {},
   "source": [
    "## Summary\n",
    "\n",
    "- Lists and tuples store ordered data.\n",
    "- Sets ensure uniqueness.\n",
    "- Dictionaries store key-value mappings.\n",
    "- `collections` module offers specialized structures.\n"
   ]
  },
  {
   "cell_type": "code",
   "execution_count": null,
   "id": "d66e6be4-3840-4d47-a152-716cbb75b99e",
   "metadata": {},
   "outputs": [],
   "source": []
  }
 ],
 "metadata": {
  "kernelspec": {
   "display_name": "Python 3 (ipykernel)",
   "language": "python",
   "name": "python3"
  },
  "language_info": {
   "codemirror_mode": {
    "name": "ipython",
    "version": 3
   },
   "file_extension": ".py",
   "mimetype": "text/x-python",
   "name": "python",
   "nbconvert_exporter": "python",
   "pygments_lexer": "ipython3",
   "version": "3.13.1"
  }
 },
 "nbformat": 4,
 "nbformat_minor": 5
}
