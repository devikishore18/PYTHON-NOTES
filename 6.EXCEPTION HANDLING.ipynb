{
 "cells": [
  {
   "cell_type": "markdown",
   "id": "a204c364-10ed-4257-b465-941172b4be09",
   "metadata": {},
   "source": [
    "# EXCEPTION HANDLING\n",
    "\n",
    "## What is an Exception?\n",
    "\n",
    "An **exception** is an error that occurs **during the execution** of a program. If not handled properly, it will **crash the program**.\n",
    "\n",
    "---\n",
    "\n",
    "## Why Exception Handling?\n",
    "\n",
    "- Prevent the program from crashing.\n",
    "- Handle unexpected inputs or situations.\n",
    "- Give user-friendly error messages.\n",
    "- Maintain normal program flow.\n",
    "\n",
    "---\n",
    "\n",
    "## Basic Try-Except Block\n",
    "- The try block lets you test a block of code for errors.\n",
    "- The except block lets you handle the error.\n",
    "- The else block lets you execute code when there is no error.\n",
    "- The finally block lets you execute code, regardless of the result of the try- and except blocks.\n",
    "\n",
    "\n",
    "\n"
   ]
  },
  {
   "cell_type": "code",
   "execution_count": 2,
   "id": "7a7ebbf6-bfae-45b3-a04d-3b080fc5bc58",
   "metadata": {},
   "outputs": [
    {
     "name": "stdout",
     "output_type": "stream",
     "text": [
      "You can't divide by zero!\n"
     ]
    }
   ],
   "source": [
    "try:\n",
    "    x = 10 / 0\n",
    "except ZeroDivisionError:\n",
    "    print(\"You can't divide by zero!\")"
   ]
  },
  {
   "cell_type": "markdown",
   "id": "04de4780-0602-4a94-9e89-822c222cfa24",
   "metadata": {},
   "source": [
    "## Catching Multiple Exceptions"
   ]
  },
  {
   "cell_type": "code",
   "execution_count": 3,
   "id": "71419c59-bdbf-4214-9720-dace7a8d3959",
   "metadata": {},
   "outputs": [
    {
     "name": "stdout",
     "output_type": "stream",
     "text": [
      "Invalid number!\n"
     ]
    }
   ],
   "source": [
    "try:\n",
    "    x = int(\"abc\")\n",
    "except ValueError:\n",
    "    print(\"Invalid number!\")\n",
    "except ZeroDivisionError:\n",
    "    print(\"Division by zero not allowed.\")\n"
   ]
  },
  {
   "cell_type": "markdown",
   "id": "3500cd62-c075-480f-9ad9-24c6137e9017",
   "metadata": {},
   "source": [
    "## Using else and finally"
   ]
  },
  {
   "cell_type": "code",
   "execution_count": 4,
   "id": "ac130a8f-4038-4bff-8b4b-6e3ddd692b93",
   "metadata": {},
   "outputs": [
    {
     "name": "stdout",
     "output_type": "stream",
     "text": [
      "Division successful: 5.0\n",
      "This block always runs.\n"
     ]
    }
   ],
   "source": [
    "try:\n",
    "    x = 5 / 1\n",
    "except ZeroDivisionError:\n",
    "    print(\"Division error.\")\n",
    "else:\n",
    "    print(\"Division successful:\", x)\n",
    "finally:\n",
    "    print(\"This block always runs.\")\n"
   ]
  },
  {
   "cell_type": "markdown",
   "id": "05d6b641-238b-4e06-b4c6-48b1fa074aaa",
   "metadata": {},
   "source": [
    " `else` runs if no exception occurs.\n",
    " `finally`runs no matter what (useful for cleanup)."
   ]
  },
  {
   "cell_type": "markdown",
   "id": "519db970-c775-4fb9-bfd2-e91305ae7b2d",
   "metadata": {},
   "source": [
    "## Common Built-in Exceptions"
   ]
  },
  {
   "cell_type": "markdown",
   "id": "dcc6f08a-c379-4c71-afec-83c934136423",
   "metadata": {},
   "source": [
    "| Exception           | When it Occurs                       |\n",
    "| ------------------- | ------------------------------------ |\n",
    "| `ZeroDivisionError` | Dividing by zero                     |\n",
    "| `ValueError`        | Invalid conversion (e.g., str → int) |\n",
    "| `TypeError`         | Operation on incompatible types      |\n",
    "| `FileNotFoundError` | File doesn't exist                   |\n",
    "| `IndexError`        | List index out of range              |\n",
    "| `KeyError`          | Missing dictionary key               |\n"
   ]
  },
  {
   "cell_type": "markdown",
   "id": "7378b8ec-f82b-4551-92f7-52e1ad9b5616",
   "metadata": {},
   "source": [
    "## Example: Handling File Errors"
   ]
  },
  {
   "cell_type": "code",
   "execution_count": 5,
   "id": "ae80af64-5db4-4beb-a6d1-3970909eb9e9",
   "metadata": {},
   "outputs": [
    {
     "name": "stdout",
     "output_type": "stream",
     "text": [
      "The file was not found.\n"
     ]
    }
   ],
   "source": [
    "try:\n",
    "    with open('nonexistent.txt', 'r') as f:\n",
    "        content = f.read()\n",
    "except FileNotFoundError:\n",
    "    print(\"The file was not found.\")\n"
   ]
  },
  {
   "cell_type": "markdown",
   "id": "ba93efff-2459-48bb-9ca1-c83aa7d735fb",
   "metadata": {},
   "source": [
    "## Raising Your Own Exceptions\n"
   ]
  },
  {
   "cell_type": "code",
   "execution_count": null,
   "id": "d705ed5a-a5f2-4472-bf00-3d00cba83fc9",
   "metadata": {},
   "outputs": [],
   "source": [
    "age = -5\n",
    "if age < 0:\n",
    "    raise ValueError(\"Age cannot be negative!\")\n"
   ]
  },
  {
   "cell_type": "markdown",
   "id": "88055790-57c1-4bd2-93ad-446f9ac46d02",
   "metadata": {},
   "source": [
    "## Practice Problems"
   ]
  },
  {
   "cell_type": "code",
   "execution_count": null,
   "id": "df57485a-ba58-495d-b1aa-11fbbf42c087",
   "metadata": {},
   "outputs": [],
   "source": [
    "# 1. Handle invalid integer input\n",
    "try:\n",
    "    num = int(input(\"Enter a number: \"))\n",
    "    print(\"Square:\", num**2)\n",
    "except ValueError:\n",
    "    print(\"That's not a valid number.\")\n",
    "\n",
    "# 2. Handle division by zero\n",
    "try:\n",
    "    a = int(input(\"Enter numerator: \"))\n",
    "    b = int(input(\"Enter denominator: \"))\n",
    "    print(\"Result:\", a / b)\n",
    "except ZeroDivisionError:\n",
    "    print(\"Denominator can't be zero.\")\n",
    "except ValueError:\n",
    "    print(\"Invalid input!\")\n",
    "\n",
    "# 3. Always close file properly\n",
    "try:\n",
    "    f = open(\"data.txt\", \"r\")\n",
    "    print(f.read())\n",
    "except FileNotFoundError:\n",
    "    print(\"File not found.\")\n",
    "finally:\n",
    "    print(\"File operation attempted.\")\n"
   ]
  },
  {
   "cell_type": "markdown",
   "id": "ed970b3f-1c88-45ec-987b-7cf8075f3cb6",
   "metadata": {},
   "source": [
    "## Summary"
   ]
  },
  {
   "cell_type": "markdown",
   "id": "e5ce8185-a302-4e55-a815-8f98409b77b3",
   "metadata": {},
   "source": [
    "| Block     | Purpose                             |\n",
    "| --------- | ----------------------------------- |\n",
    "| `try`     | Wrap code that might raise an error |\n",
    "| `except`  | Handle the error                    |\n",
    "| `else`    | Run if no exception occurs          |\n",
    "| `finally` | Run no matter what (e.g., cleanup)  |\n",
    "| `raise`   | Manually trigger an exception       |\n"
   ]
  },
  {
   "cell_type": "markdown",
   "id": "7d2ae922-1903-403b-b58a-450a6d1858ba",
   "metadata": {},
   "source": [
    " Exception handling makes your Python programs robust, reliable, and user-friendly. Always handle what can go wrong."
   ]
  }
 ],
 "metadata": {
  "kernelspec": {
   "display_name": "Python 3 (ipykernel)",
   "language": "python",
   "name": "python3"
  },
  "language_info": {
   "codemirror_mode": {
    "name": "ipython",
    "version": 3
   },
   "file_extension": ".py",
   "mimetype": "text/x-python",
   "name": "python",
   "nbconvert_exporter": "python",
   "pygments_lexer": "ipython3",
   "version": "3.13.1"
  }
 },
 "nbformat": 4,
 "nbformat_minor": 5
}
