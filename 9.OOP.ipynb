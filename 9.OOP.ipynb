{
 "cells": [
  {
   "cell_type": "markdown",
   "id": "d83b6336-d76f-47c2-aaad-ae6c7ddfda1e",
   "metadata": {},
   "source": [
    "# Object-Oriented Programming (OOP) \n",
    "\n",
    "##  What is OOP?\n",
    "\n",
    "- A programming paradigm that organizes code using **classes** and **objects**.\n",
    "- Focuses on **real-world modeling** (like \"Car\", \"BankAccount\", etc.)\n",
    "- Promotes code **reusability**, **modularity**, and **organization**.\n",
    "\n",
    "---\n",
    "\n",
    "##  Key Concepts of OOP\n",
    "\n",
    "| Concept     | Description                                      |\n",
    "|-------------|--------------------------------------------------|\n",
    "| Class       | Blueprint/template for creating objects          |\n",
    "| Object      | Instance of a class                              |\n",
    "| Attributes  | Variables associated with an object              |\n",
    "| Methods     | Functions associated with an object              |\n",
    "| `__init__`  | Constructor method, runs when object is created  |\n",
    "| `self`      | Refers to the current object                     |\n",
    "\n",
    "---\n",
    "\n",
    "##  Defining a Class & Creating Objects\n",
    "\n",
    "```python\n",
    "class Person:\n",
    "    def __init__(self, name, age):  # Constructor\n",
    "        self.name = name\n",
    "        self.age = age\n",
    "\n",
    "    def greet(self):\n",
    "        print(f\"Hello, I’m {self.name} and I’m {self.age} years old.\")\n",
    "\n",
    "# Create object\n",
    "p1 = Person(\"Alice\", 25)\n",
    "p1.greet()\n"
   ]
  },
  {
   "cell_type": "markdown",
   "id": "5197d93f-4292-4b70-8b52-389b1cda6e21",
   "metadata": {},
   "source": [
    "##  Modify Object Attributes"
   ]
  },
  {
   "cell_type": "code",
   "execution_count": null,
   "id": "9fc83f2e-9a37-4671-976e-e7e873de56b9",
   "metadata": {},
   "outputs": [],
   "source": [
    "p1.age = 26\n",
    "print(p1.age)\n"
   ]
  },
  {
   "cell_type": "markdown",
   "id": "cea3a311-68b4-485e-803e-e5bf32f0efff",
   "metadata": {},
   "source": [
    "## Delete Attributes or Objects"
   ]
  },
  {
   "cell_type": "code",
   "execution_count": null,
   "id": "4dee2858-4878-4e36-8332-26420d5c79c7",
   "metadata": {},
   "outputs": [],
   "source": [
    "del p1.age         # Deletes attribute\n",
    "# del p1           # Deletes object\n"
   ]
  },
  {
   "cell_type": "markdown",
   "id": "08a176b5-967e-45b4-bd53-791792532427",
   "metadata": {},
   "source": [
    "## Encapsulation"
   ]
  },
  {
   "cell_type": "markdown",
   "id": "83709b39-2a4e-4543-8b9f-3662ce79c29e",
   "metadata": {},
   "source": [
    "Hides internal details. Use `_`or `__ `for private/protected.\n",
    "\n"
   ]
  },
  {
   "cell_type": "code",
   "execution_count": 3,
   "id": "cbccd24e-2467-4f9a-9624-56603d9b6b24",
   "metadata": {},
   "outputs": [
    {
     "name": "stdout",
     "output_type": "stream",
     "text": [
      "1500\n"
     ]
    }
   ],
   "source": [
    "class BankAccount:\n",
    "    def __init__(self, balance):\n",
    "        self.__balance = balance  # Private variable\n",
    "\n",
    "    def deposit(self, amount):\n",
    "        self.__balance += amount\n",
    "\n",
    "    def get_balance(self):\n",
    "        return self.__balance\n",
    "\n",
    "acc = BankAccount(1000)\n",
    "acc.deposit(500)\n",
    "print(acc.get_balance())  # 1500\n"
   ]
  },
  {
   "cell_type": "markdown",
   "id": "1cafde16-52bd-499e-980b-2c139140d17b",
   "metadata": {},
   "source": [
    "## Inheritance"
   ]
  },
  {
   "cell_type": "markdown",
   "id": "8ca4eb26-2e97-46fd-9726-b99e6346e863",
   "metadata": {},
   "source": [
    "A class can inherit properties and methods from another class."
   ]
  },
  {
   "cell_type": "code",
   "execution_count": 4,
   "id": "bb5cc682-f481-4733-a2ca-175a3532b1ca",
   "metadata": {},
   "outputs": [
    {
     "name": "stdout",
     "output_type": "stream",
     "text": [
      "Dog barks\n"
     ]
    }
   ],
   "source": [
    "class Animal:\n",
    "    def speak(self):\n",
    "        print(\"Animal speaks\")\n",
    "\n",
    "class Dog(Animal):   # Inherit from Animal\n",
    "    def speak(self):\n",
    "        print(\"Dog barks\")\n",
    "\n",
    "d = Dog()\n",
    "d.speak()\n"
   ]
  },
  {
   "cell_type": "markdown",
   "id": "9cada8fc-32d8-47c2-982b-11ba0a773ff0",
   "metadata": {},
   "source": [
    "## Polymorphism"
   ]
  },
  {
   "cell_type": "markdown",
   "id": "339726cf-1d85-46c3-a090-421c57fe7655",
   "metadata": {},
   "source": [
    "Different classes can have methods with the same name, but behave differently."
   ]
  },
  {
   "cell_type": "code",
   "execution_count": 7,
   "id": "89bb9775-b730-4013-baa3-7def6e03e8ac",
   "metadata": {},
   "outputs": [
    {
     "name": "stdout",
     "output_type": "stream",
     "text": [
      "Meow\n",
      "Moo\n"
     ]
    }
   ],
   "source": [
    "class Cat:\n",
    "    def sound(self):\n",
    "        print(\"Meow\")\n",
    "\n",
    "class Cow:\n",
    "    def sound(self):\n",
    "        print(\"Moo\")\n",
    "\n",
    "for animal in [Cat(), Cow()]:\n",
    "    animal.sound()\n"
   ]
  },
  {
   "cell_type": "markdown",
   "id": "1f8f026c-2928-485e-919c-216c3531a536",
   "metadata": {},
   "source": [
    "## Class vs Instance Variables\n"
   ]
  },
  {
   "cell_type": "code",
   "execution_count": 8,
   "id": "876ce4c0-a5a2-478b-9f58-99588e13bb4b",
   "metadata": {},
   "outputs": [
    {
     "name": "stdout",
     "output_type": "stream",
     "text": [
      "ABC School ABC School\n"
     ]
    }
   ],
   "source": [
    "class Student:\n",
    "    school = \"ABC School\"  # Class variable (shared)\n",
    "\n",
    "    def __init__(self, name):\n",
    "        self.name = name    # Instance variable\n",
    "\n",
    "s1 = Student(\"Alice\")\n",
    "s2 = Student(\"Bob\")\n",
    "print(s1.school, s2.school)  # ABC School ABC School\n"
   ]
  },
  {
   "cell_type": "markdown",
   "id": "bbfd970d-ede7-4ac1-97cc-dfd80f106a82",
   "metadata": {},
   "source": [
    "## Practice Problems"
   ]
  },
  {
   "cell_type": "code",
   "execution_count": 9,
   "id": "b8f1daac-540c-47a2-be66-c1596f4c8863",
   "metadata": {},
   "outputs": [
    {
     "name": "stdout",
     "output_type": "stream",
     "text": [
      "Area: 20\n",
      "Square area: 36\n"
     ]
    }
   ],
   "source": [
    "# 1. Create a class for a Rectangle\n",
    "class Rectangle:\n",
    "    def __init__(self, width, height):\n",
    "        self.width = width\n",
    "        self.height = height\n",
    "\n",
    "    def area(self):\n",
    "        return self.width * self.height\n",
    "\n",
    "rect = Rectangle(4, 5)\n",
    "print(\"Area:\", rect.area())\n",
    "\n",
    "# 2. Inherit from Rectangle to create a Square\n",
    "class Square(Rectangle):\n",
    "    def __init__(self, side):\n",
    "        super().__init__(side, side)\n",
    "\n",
    "sq = Square(6)\n",
    "print(\"Square area:\", sq.area())\n"
   ]
  },
  {
   "cell_type": "markdown",
   "id": "e620ec99-aeec-48f2-a4de-6c002bf11abf",
   "metadata": {},
   "source": [
    "## Summary"
   ]
  },
  {
   "cell_type": "markdown",
   "id": "26ca331b-8937-4710-a6c9-72f64a86415f",
   "metadata": {},
   "source": [
    "| Concept       | Description                              |\n",
    "| ------------- | ---------------------------------------- |\n",
    "| Class         | Blueprint for objects                    |\n",
    "| Object        | Instance of a class                      |\n",
    "| `__init__()`  | Constructor                              |\n",
    "| `self`        | Refers to current object                 |\n",
    "| Encapsulation | Hiding internal details                  |\n",
    "| Inheritance   | Reuse methods from parent class          |\n",
    "| Polymorphism  | Same method name, different behavior     |\n",
    "| Abstraction   | Hiding unnecessary details (via methods) |\n"
   ]
  },
  {
   "cell_type": "markdown",
   "id": "53c24b72-dd3d-44c0-8f30-cfe7230dddc9",
   "metadata": {},
   "source": [
    "OOP helps write cleaner, reusable, and scalable Python code — especially for large projects like games, apps, or systems."
   ]
  }
 ],
 "metadata": {
  "kernelspec": {
   "display_name": "Python 3 (ipykernel)",
   "language": "python",
   "name": "python3"
  },
  "language_info": {
   "codemirror_mode": {
    "name": "ipython",
    "version": 3
   },
   "file_extension": ".py",
   "mimetype": "text/x-python",
   "name": "python",
   "nbconvert_exporter": "python",
   "pygments_lexer": "ipython3",
   "version": "3.13.1"
  }
 },
 "nbformat": 4,
 "nbformat_minor": 5
}
