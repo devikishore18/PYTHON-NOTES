{
 "cells": [
  {
   "cell_type": "markdown",
   "id": "f391e763-eef6-4c92-9728-3da82fae723d",
   "metadata": {},
   "source": [
    "#  SETS\n"
   ]
  },
  {
   "cell_type": "markdown",
   "id": "89b8aafb-f523-4422-8d96-9d01e59a9789",
   "metadata": {},
   "source": [
    "## What is a Set?\n",
    "- A **set** is an **unordered**, **mutable**, and **unindexed** collection of **unique** elements.\n",
    "- Sets automatically **remove duplicates**.\n",
    "- Elements must be **hashable** (immutable types like numbers, strings, tuples).\n",
    "- Sets are written with curly brackets.\n",
    "\n",
    "\n",
    "\n",
    "### Syntax:\n",
    "```python\n",
    "my_set = {element1, element2, ...}\n",
    "\n",
    "To create an empty set:\n",
    "empty = set()      # NOT {} which creates an empty dictionary\n"
   ]
  },
  {
   "cell_type": "markdown",
   "id": "2e79ab67-3ee0-48ff-aebd-315ef8601c7f",
   "metadata": {},
   "source": [
    "### Creating Sets"
   ]
  },
  {
   "cell_type": "code",
   "execution_count": null,
   "id": "1908bb81-5bfb-4675-aaa4-a8caa186d32f",
   "metadata": {},
   "outputs": [],
   "source": [
    "# Set of integers\n",
    "numbers = {1, 2, 3, 4}\n",
    "\n",
    "# Set with duplicate values\n",
    "unique = {1, 2, 2, 3, 4, 4}\n",
    "print(unique)  # {1, 2, 3, 4}\n",
    "\n",
    "# Mixed types\n",
    "mixed = {10, \"hello\", True}\n"
   ]
  },
  {
   "cell_type": "markdown",
   "id": "b14c4842-fd42-4333-8783-397cd7e3c814",
   "metadata": {},
   "source": [
    "### Adding & Removing Elements"
   ]
  },
  {
   "cell_type": "code",
   "execution_count": null,
   "id": "65c41607-c408-4e28-9ed3-855718db91c5",
   "metadata": {},
   "outputs": [],
   "source": [
    "s = {1, 2, 3}\n",
    "s.add(4)            # Add single element\n",
    "s.update([5, 6])    # Add multiple elements\n",
    "s.remove(2)         # Remove element (error if not found)\n",
    "s.discard(10)       # Remove if exists (no error if not)\n",
    "s.clear()           # Remove all elements"
   ]
  },
  {
   "cell_type": "markdown",
   "id": "a9fceda3-021b-47f3-a010-1c0b95864712",
   "metadata": {},
   "source": [
    "### Set Operations (like in math)"
   ]
  },
  {
   "cell_type": "code",
   "execution_count": null,
   "id": "f3c0f9af-a9f8-4e3f-abb8-d0fea4e85f30",
   "metadata": {},
   "outputs": [],
   "source": [
    "a = {1, 2, 3}\n",
    "b = {3, 4, 5}\n",
    "\n",
    "print(a | b)     # Union: {1, 2, 3, 4, 5}\n",
    "print(a & b)     # Intersection: {3}\n",
    "print(a - b)     # Difference: {1, 2}\n",
    "print(a ^ b)     # Symmetric Difference: {1, 2, 4, 5}\n"
   ]
  },
  {
   "cell_type": "markdown",
   "id": "81435f37-664e-41b4-883c-6f2ac614ffaf",
   "metadata": {},
   "source": [
    "### Looping Through a Set"
   ]
  },
  {
   "cell_type": "code",
   "execution_count": null,
   "id": "30029741-2100-4e7a-8ff1-5184024c81c4",
   "metadata": {},
   "outputs": [],
   "source": [
    "for item in {\"apple\", \"banana\", \"cherry\"}:\n",
    "    print(item)\n"
   ]
  },
  {
   "cell_type": "markdown",
   "id": "d916c263-3362-477d-906c-f0c4fec60ac1",
   "metadata": {},
   "source": [
    "### Why Use Sets?\n",
    "Quickly remove duplicates from a list:"
   ]
  },
  {
   "cell_type": "code",
   "execution_count": null,
   "id": "24a102f0-4b49-4b05-b2b6-b5d49cdbbad6",
   "metadata": {},
   "outputs": [],
   "source": [
    "names = ['Alice', 'Bob', 'Alice', 'Eve']\n",
    "unique_names = set(names)\n",
    "print(unique_names)"
   ]
  },
  {
   "cell_type": "markdown",
   "id": "e0fa1358-b3ee-4bc8-9f54-5eb4b132d2f1",
   "metadata": {},
   "source": [
    "Efficient membership test (faster than lists):"
   ]
  },
  {
   "cell_type": "code",
   "execution_count": null,
   "id": "99cfb8c6-f4d7-430f-a12b-97913f768512",
   "metadata": {},
   "outputs": [],
   "source": [
    "print('Bob' in unique_names)  # True"
   ]
  },
  {
   "cell_type": "markdown",
   "id": "3cb93378-0854-4af3-8fc6-dcaa8ff38324",
   "metadata": {},
   "source": [
    "### Practice Problems"
   ]
  },
  {
   "cell_type": "code",
   "execution_count": 5,
   "id": "a320e281-b286-46bf-a4dc-ac7d4c5a815e",
   "metadata": {},
   "outputs": [
    {
     "name": "stdout",
     "output_type": "stream",
     "text": [
      "[1, 2, 3, 4, 5]\n"
     ]
    }
   ],
   "source": [
    "# 1. Remove duplicates from a list using a set\n",
    "nums = [1, 2, 2, 3, 4, 4, 5]\n",
    "unique_nums = list(set(nums))\n",
    "print(unique_nums)"
   ]
  },
  {
   "cell_type": "code",
   "execution_count": 6,
   "id": "fe3263cb-81db-456d-9d17-85cc8c551d13",
   "metadata": {},
   "outputs": [
    {
     "name": "stdout",
     "output_type": "stream",
     "text": [
      "{3, 4}\n"
     ]
    }
   ],
   "source": [
    "# 2. Find common elements between two sets\n",
    "set1 = {1, 2, 3, 4}\n",
    "set2 = {3, 4, 5, 6}\n",
    "print(set1 & set2)\n"
   ]
  },
  {
   "cell_type": "code",
   "execution_count": 7,
   "id": "9020b2af-bdcc-4534-8e9a-6fc024600875",
   "metadata": {},
   "outputs": [
    {
     "name": "stdout",
     "output_type": "stream",
     "text": [
      "True\n"
     ]
    }
   ],
   "source": [
    "# 3. Check if a set is a subset\n",
    "print({1, 2}.issubset(set1))   # True\n"
   ]
  },
  {
   "cell_type": "markdown",
   "id": "a9658a02-c7b4-41f0-928d-d36d275085c1",
   "metadata": {},
   "source": [
    "### Common Set Methods"
   ]
  },
  {
   "cell_type": "markdown",
   "id": "465aabe8-1274-4fea-a497-bbd29ba9493c",
   "metadata": {},
   "source": [
    "| Method                       | Description                        |\n",
    "| ---------------------------- | ---------------------------------- |\n",
    "| `add(x)`                     | Adds element `x`                   |\n",
    "| `update(iterable)`           | Adds multiple elements             |\n",
    "| `remove(x)`                  | Removes `x`, errors if not found   |\n",
    "| `discard(x)`                 | Removes `x`, no error if not found |\n",
    "| `pop()`                      | Removes a random element           |\n",
    "| `clear()`                    | Empties the set                    |\n",
    "| `union(set2)`                | Returns union                      |\n",
    "| `intersection(set2)`         | Returns intersection               |\n",
    "| `difference(set2)`           | Returns difference                 |\n",
    "| `symmetric_difference(set2)` | Returns symmetric difference       |\n"
   ]
  }
 ],
 "metadata": {
  "kernelspec": {
   "display_name": "Python 3 (ipykernel)",
   "language": "python",
   "name": "python3"
  },
  "language_info": {
   "codemirror_mode": {
    "name": "ipython",
    "version": 3
   },
   "file_extension": ".py",
   "mimetype": "text/x-python",
   "name": "python",
   "nbconvert_exporter": "python",
   "pygments_lexer": "ipython3",
   "version": "3.13.1"
  }
 },
 "nbformat": 4,
 "nbformat_minor": 5
}
