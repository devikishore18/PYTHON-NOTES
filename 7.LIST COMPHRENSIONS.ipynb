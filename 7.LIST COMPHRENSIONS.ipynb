{
 "cells": [
  {
   "cell_type": "markdown",
   "id": "94d9b3ad-1abc-47c1-b426-cb7c76698b33",
   "metadata": {},
   "source": [
    "# LIST COMPREHENSION\n",
    "\n",
    "## What is a List Comprehension?\n",
    "\n",
    "A **list comprehension** is a concise way to create lists using a **single line of code**, instead of writing a `for` loop.\n",
    "\n",
    "### Syntax:\n",
    "\n",
    "```python\n",
    "[expression for item in iterable if condition]\n",
    "newlist = [expression for item in iterable if condition == True]\n",
    "\n"
   ]
  },
  {
   "cell_type": "markdown",
   "id": "4cb06cf7-ba1a-4cbe-9cd1-ac4482ae1423",
   "metadata": {},
   "source": [
    "## Basic Example — Square Numbers\n"
   ]
  },
  {
   "cell_type": "code",
   "execution_count": 5,
   "id": "6d4dedcd-a07f-4442-892e-8ef2793691c5",
   "metadata": {},
   "outputs": [
    {
     "name": "stdout",
     "output_type": "stream",
     "text": [
      "[0, 1, 4, 9, 16]\n"
     ]
    }
   ],
   "source": [
    "# Without list comprehension\n",
    "squares = []\n",
    "for i in range(5):\n",
    "    squares.append(i**2)\n",
    "\n",
    "# With list comprehension\n",
    "squares = [i**2 for i in range(5)]\n",
    "print(squares)  # [0, 1, 4, 9, 16]\n"
   ]
  },
  {
   "cell_type": "markdown",
   "id": "4e83fa77-95cc-4105-a55b-be0e1fe8996d",
   "metadata": {},
   "source": [
    "## Add Condition (if)"
   ]
  },
  {
   "cell_type": "code",
   "execution_count": 7,
   "id": "1ded4ec2-54fe-4ba1-9fae-2802156555aa",
   "metadata": {},
   "outputs": [
    {
     "name": "stdout",
     "output_type": "stream",
     "text": [
      "[0, 2, 4, 6, 8]\n"
     ]
    }
   ],
   "source": [
    "# Get even numbers from 0 to 9\n",
    "evens = [i for i in range(10) if i % 2 == 0]\n",
    "print(evens)  # [0, 2, 4, 6, 8]\n"
   ]
  },
  {
   "cell_type": "markdown",
   "id": "d2ea2fa5-fb90-49d2-ab99-19e11ed4f0ff",
   "metadata": {},
   "source": [
    "# With Else (Ternary Expression)"
   ]
  },
  {
   "cell_type": "code",
   "execution_count": 8,
   "id": "ae2cb8c6-baf2-4431-9f8c-c4b86f37c35e",
   "metadata": {},
   "outputs": [
    {
     "name": "stdout",
     "output_type": "stream",
     "text": [
      "['even', 'odd', 'even', 'odd', 'even']\n"
     ]
    }
   ],
   "source": [
    "# Mark numbers as even or odd\n",
    "result = ['even' if i % 2 == 0 else 'odd' for i in range(5)]\n",
    "print(result)  # ['even', 'odd', 'even', 'odd', 'even']\n"
   ]
  },
  {
   "cell_type": "markdown",
   "id": "412b31d4-c124-450c-b3a7-1c3f22a585c5",
   "metadata": {},
   "source": [
    "## Strings with List Comprehension\n",
    "\n"
   ]
  },
  {
   "cell_type": "code",
   "execution_count": 9,
   "id": "072e2175-615f-4bf3-a937-f6dbafb5d692",
   "metadata": {},
   "outputs": [
    {
     "name": "stdout",
     "output_type": "stream",
     "text": [
      "['H', 'E', 'L', 'L', 'O']\n"
     ]
    }
   ],
   "source": [
    "# Get uppercase letters from a word\n",
    "word = \"hello\"\n",
    "uppercase = [char.upper() for char in word]\n",
    "print(uppercase)  # ['H', 'E', 'L', 'L', 'O']\n"
   ]
  },
  {
   "cell_type": "markdown",
   "id": "49962f80-e859-43ae-896d-ffd5fada7f13",
   "metadata": {},
   "source": [
    "## Nested Loops"
   ]
  },
  {
   "cell_type": "code",
   "execution_count": 10,
   "id": "928c339e-48e9-4d78-b765-33c0be3c1caf",
   "metadata": {},
   "outputs": [
    {
     "name": "stdout",
     "output_type": "stream",
     "text": [
      "[(1, 3), (1, 4), (2, 3), (2, 4)]\n"
     ]
    }
   ],
   "source": [
    "# Create all combinations of (x, y)\n",
    "pairs = [(x, y) for x in [1, 2] for y in [3, 4]]\n",
    "print(pairs)  # [(1, 3), (1, 4), (2, 3), (2, 4)]\n"
   ]
  },
  {
   "cell_type": "markdown",
   "id": "d0ad719f-caf6-47c3-b9fd-03acd86ed805",
   "metadata": {},
   "source": [
    "## Examples"
   ]
  },
  {
   "cell_type": "code",
   "execution_count": 11,
   "id": "a23f1705-6fc9-42a3-b65d-2e1a5232ef38",
   "metadata": {},
   "outputs": [],
   "source": [
    "# 1. Squares of numbers divisible by 3 from 1 to 20\n",
    "result = [i**2 for i in range(1, 21) if i % 3 == 0]\n",
    "\n",
    "# 2. Remove vowels from a sentence\n",
    "sentence = \"Python is awesome\"\n",
    "no_vowels = [char for char in sentence if char.lower() not in \"aeiou\"]\n",
    "\n",
    "# 3. Convert temperatures from Celsius to Fahrenheit\n",
    "celsius = [0, 10, 20, 30]\n",
    "fahrenheit = [(9/5)*temp + 32 for temp in celsius]\n"
   ]
  },
  {
   "cell_type": "markdown",
   "id": "ca61571d-88dc-45ef-ab6a-e7b42c4e40d4",
   "metadata": {},
   "source": [
    "## When to Use List Comprehension?"
   ]
  },
  {
   "cell_type": "markdown",
   "id": "7fdd0314-e2f9-49bd-8b36-257e9a15bf71",
   "metadata": {},
   "source": [
    "✅ Use it when:\n",
    "\n",
    "You are creating a new list.\n",
    "\n",
    "The logic is simple and readable.\n",
    "\n",
    "❌ Avoid it when:\n",
    "\n",
    "The logic is complex or nested too deeply.\n",
    "\n",
    "It affects readability.\n",
    "\n"
   ]
  },
  {
   "cell_type": "markdown",
   "id": "96e237be-5bb6-4e88-8c58-46ac0c14b710",
   "metadata": {},
   "source": [
    "## Summary"
   ]
  },
  {
   "cell_type": "markdown",
   "id": "d1ba3e95-f009-47ff-85a2-39601a2911c0",
   "metadata": {},
   "source": [
    "| Feature        | Example                                    |\n",
    "| -------------- | ------------------------------------------ |\n",
    "| Basic          | `[x*2 for x in range(5)]`                  |\n",
    "| With condition | `[x for x in nums if x > 0]`               |\n",
    "| If-else        | `['even' if x%2==0 else 'odd' for x in L]` |\n",
    "| Nested loops   | `[(x,y) for x in A for y in B]`            |\n"
   ]
  },
  {
   "cell_type": "markdown",
   "id": "f188825c-f8eb-44ef-aa31-9ea7ad0465f0",
   "metadata": {},
   "source": [
    "List comprehensions are Pythonic, elegant, and powerful. Use them to write cleaner, faster code — with fewer lines."
   ]
  },
  {
   "cell_type": "code",
   "execution_count": null,
   "id": "b92bc9a1-670d-4584-867c-dfecb324e657",
   "metadata": {},
   "outputs": [],
   "source": []
  }
 ],
 "metadata": {
  "kernelspec": {
   "display_name": "Python 3 (ipykernel)",
   "language": "python",
   "name": "python3"
  },
  "language_info": {
   "codemirror_mode": {
    "name": "ipython",
    "version": 3
   },
   "file_extension": ".py",
   "mimetype": "text/x-python",
   "name": "python",
   "nbconvert_exporter": "python",
   "pygments_lexer": "ipython3",
   "version": "3.13.1"
  }
 },
 "nbformat": 4,
 "nbformat_minor": 5
}
