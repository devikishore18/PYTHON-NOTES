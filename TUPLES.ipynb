{
 "cells": [
  {
   "cell_type": "markdown",
   "id": "332420e6-6793-43cf-a779-1d478826e61c",
   "metadata": {},
   "source": [
    "# TUPLES\n"
   ]
  },
  {
   "cell_type": "markdown",
   "id": "a0366105-0ce8-4b29-ae1a-55c40e79397f",
   "metadata": {},
   "source": [
    "##  What is a Tuple?\n",
    "- A **tuple** is an ordered, **immutable** collection of items.\n",
    "- Once a tuple is created, you **cannot change**, add, or remove its elements.\n",
    "- Tuples are **faster** than lists and are often used for **fixed data**.\n",
    "- Tuples are written with round brackets.\n",
    "- Since tuples are indexed, they can have items with the same value.\n",
    "- To determine how many items a tuple has, use the len() function.\n",
    "- To create a tuple with only one item, you have to add a comma after the item, otherwise Python will not recognize it as a tuple.\n",
    "- Tuple items can be of any data type.\n",
    "\n",
    "\n",
    "\n",
    "\n",
    "\n",
    "\n",
    "\n",
    "\n",
    "\n",
    "\n",
    "### Syntax:\n",
    "my_tuple = (element1, element2, element3)"
   ]
  },
  {
   "cell_type": "markdown",
   "id": "98737c44-bf3c-4400-ad65-5b2e978f5a9e",
   "metadata": {},
   "source": [
    "For a single-element tuple, use a comma:\n",
    "single = (5,)   # not just (5)"
   ]
  },
  {
   "cell_type": "markdown",
   "id": "d13dae8e-637f-452a-bd9b-52333786b3d7",
   "metadata": {},
   "source": [
    "## Creating Tuples\n"
   ]
  },
  {
   "cell_type": "code",
   "execution_count": null,
   "id": "5b0675b6-5ce2-4a49-a217-d668f4b7d29f",
   "metadata": {},
   "outputs": [],
   "source": [
    "# Tuple of integers\n",
    "numbers = (10, 20, 30)\n",
    "\n",
    "# Tuple with mixed types\n",
    "person = ('Alice', 25, True)\n",
    "\n",
    "# Nested tuple\n",
    "matrix = ((1, 2), (3, 4))\n",
    "\n",
    "# Empty tuple\n",
    "empty = ()"
   ]
  },
  {
   "cell_type": "markdown",
   "id": "900a210e-42e5-474c-be23-7e8742c2431a",
   "metadata": {},
   "source": [
    "## Accessing Elements\n",
    "- You can access tuple items by referring to the index number, inside square brackets.\n",
    "- Negative indexing means start from the end.-1 refers to the last item, -2 refers to the second last item etc.\n",
    "\n"
   ]
  },
  {
   "cell_type": "code",
   "execution_count": null,
   "id": "c88237ce-42fa-4931-983b-c0bbce9663da",
   "metadata": {},
   "outputs": [],
   "source": [
    "print(numbers[0])     # First element\n",
    "print(numbers[-1])    # Last element"
   ]
  },
  {
   "cell_type": "markdown",
   "id": "1a3a6637-59c1-4c1b-b4a8-f9abf3c01a7f",
   "metadata": {},
   "source": [
    "## Tuples are Immutable\n",
    "Tuples are unchangeable, meaning that you cannot change, add, or remove items once the tuple is created."
   ]
  },
  {
   "cell_type": "code",
   "execution_count": null,
   "id": "32ffdcfb-46ca-4754-b2fe-5682eee6ccb4",
   "metadata": {},
   "outputs": [],
   "source": [
    "# This will cause an error\n",
    "numbers[1] = 50    # TypeError: 'tuple' object does not support item assignment"
   ]
  },
  {
   "cell_type": "markdown",
   "id": "2f35fa18-9e72-4200-935b-78b24279122b",
   "metadata": {},
   "source": [
    "But there is a workaround. You can convert the tuple into a list, change the list, and convert the list back into a tuple."
   ]
  },
  {
   "cell_type": "code",
   "execution_count": 1,
   "id": "364ed0db-d279-47b1-b6ad-5c71b03cf93a",
   "metadata": {},
   "outputs": [
    {
     "name": "stdout",
     "output_type": "stream",
     "text": [
      "('apple', 'kiwi', 'cherry')\n"
     ]
    }
   ],
   "source": [
    "x = (\"apple\", \"banana\", \"cherry\")\n",
    "y = list(x)\n",
    "y[1] = \"kiwi\"\n",
    "x = tuple(y)\n",
    "\n",
    "print(x)"
   ]
  },
  {
   "cell_type": "markdown",
   "id": "b7eb6117-8158-4b95-9ab4-1b5cd2aceeb2",
   "metadata": {},
   "source": [
    "## Tuple Operations"
   ]
  },
  {
   "cell_type": "code",
   "execution_count": null,
   "id": "9054ae5d-0bde-4604-8490-710f094705d5",
   "metadata": {},
   "outputs": [],
   "source": [
    "# Concatenation\n",
    "t1 = (1, 2)\n",
    "t2 = (3, 4)\n",
    "combined = t1 + t2\n",
    "print(combined)\n",
    "\n",
    "# Repetition\n",
    "repeated = t1 * 3\n",
    "print(repeated)\n",
    "\n",
    "# Membership\n",
    "print(2 in t1)    # True"
   ]
  },
  {
   "cell_type": "code",
   "execution_count": 5,
   "id": "88246187-9059-4c26-bd62-841ed144fcc1",
   "metadata": {},
   "outputs": [
    {
     "name": "stdout",
     "output_type": "stream",
     "text": [
      "apple\n",
      "banana\n",
      "cherry\n"
     ]
    }
   ],
   "source": [
    "#packing and unpacking\n",
    "fruits = (\"apple\", \"banana\", \"cherry\")\n",
    "\n",
    "(green, yellow, red) = fruits\n",
    "\n",
    "print(green)\n",
    "print(yellow)\n",
    "print(red)\n"
   ]
  },
  {
   "cell_type": "markdown",
   "id": "b3886d61-750b-4102-8cf1-001fd516dca5",
   "metadata": {},
   "source": [
    "If the number of variables is less than the number of values, you can add an * to the variable name and the values will be assigned to the variable as a list:\n",
    "\n"
   ]
  },
  {
   "cell_type": "code",
   "execution_count": 4,
   "id": "cc26840e-537e-456d-8a76-a61e9d5124ad",
   "metadata": {},
   "outputs": [
    {
     "name": "stdout",
     "output_type": "stream",
     "text": [
      "apple\n",
      "banana\n",
      "['cherry', 'strawberry', 'raspberry']\n"
     ]
    }
   ],
   "source": [
    "fruits = (\"apple\", \"banana\", \"cherry\", \"strawberry\", \"raspberry\")\n",
    "\n",
    "(green, yellow, *red) = fruits\n",
    "\n",
    "print(green)\n",
    "print(yellow)\n",
    "print(red)\n"
   ]
  },
  {
   "cell_type": "markdown",
   "id": "c64b14e0-6215-4e4b-b04a-60cf464117f4",
   "metadata": {},
   "source": [
    "## Looping through Tuples"
   ]
  },
  {
   "cell_type": "code",
   "execution_count": null,
   "id": "d0e70327-c958-4208-b4fd-3e8314b05c6e",
   "metadata": {},
   "outputs": [],
   "source": [
    "for item in person:\n",
    "    print(item)"
   ]
  },
  {
   "cell_type": "markdown",
   "id": "c96eac1c-b374-4fd2-8ecf-4297a9add473",
   "metadata": {},
   "source": [
    "## Tuple Packing and Unpacking\n",
    "- When we create a tuple, we normally assign values to it. This is called \"packing\" a tuple:\n",
    "- But, in Python, we are also allowed to extract the values back into variables. This is called \"unpacking\":\n",
    "\n"
   ]
  },
  {
   "cell_type": "code",
   "execution_count": null,
   "id": "1c4804d5-3248-4b0a-978f-96a03d6d5677",
   "metadata": {},
   "outputs": [],
   "source": [
    "# Packing\n",
    "student = ('John', 18, 'A')\n",
    "\n",
    "# Unpacking\n",
    "name, age, grade = student\n",
    "print(name, age, grade)"
   ]
  },
  {
   "cell_type": "markdown",
   "id": "ab03110c-f79a-4b76-852e-fb0658045f5a",
   "metadata": {},
   "source": [
    "## Tuple Methods"
   ]
  },
  {
   "cell_type": "markdown",
   "id": "caa3b340-f52c-424c-83a7-10fef36ad36f",
   "metadata": {},
   "source": [
    "| Method     | Description                                  |\n",
    "| ---------- | -------------------------------------------- |\n",
    "| `count(x)` | Returns number of times `x` appears in tuple |\n",
    "| `index(x)` | Returns first index of value `x`             |\n"
   ]
  },
  {
   "cell_type": "code",
   "execution_count": null,
   "id": "77416940-4eed-4086-87f0-ff1ba3831abb",
   "metadata": {},
   "outputs": [],
   "source": [
    "colors = ('red', 'green', 'blue', 'green')\n",
    "print(colors.count('green'))   # 2\n",
    "print(colors.index('blue'))    # 2"
   ]
  },
  {
   "cell_type": "markdown",
   "id": "6cb72156-aab2-456b-b12f-2adc91957c66",
   "metadata": {},
   "source": [
    "## Practice"
   ]
  },
  {
   "cell_type": "code",
   "execution_count": 3,
   "id": "c31425b7-e35d-4172-8b15-7fdcecee0667",
   "metadata": {},
   "outputs": [
    {
     "name": "stdout",
     "output_type": "stream",
     "text": [
      "50\n",
      "X = 3, Y = 7\n",
      "Error: 'tuple' object does not support item assignment\n"
     ]
    }
   ],
   "source": [
    "# 1. Create a tuple of 4 numbers and print the sum\n",
    "nums = (5, 10, 15, 20)\n",
    "print(sum(nums))\n",
    "\n",
    "# 2. Use unpacking to assign values to variables\n",
    "point = (3, 7)\n",
    "x, y = point\n",
    "print(f\"X = {x}, Y = {y}\")\n",
    "\n",
    "# 3. Try changing a value in a tuple (observe the error)\n",
    "try:\n",
    "    nums[0] = 100\n",
    "except TypeError as e:\n",
    "    print(\"Error:\", e)"
   ]
  },
  {
   "cell_type": "markdown",
   "id": "9cabfbe6-9b94-4e68-b7c8-5767fa9eedfd",
   "metadata": {},
   "source": [
    "Tuples are great for grouped, read-only data. Use them when you want to protect your data from being modified."
   ]
  }
 ],
 "metadata": {
  "kernelspec": {
   "display_name": "Python 3 (ipykernel)",
   "language": "python",
   "name": "python3"
  },
  "language_info": {
   "codemirror_mode": {
    "name": "ipython",
    "version": 3
   },
   "file_extension": ".py",
   "mimetype": "text/x-python",
   "name": "python",
   "nbconvert_exporter": "python",
   "pygments_lexer": "ipython3",
   "version": "3.13.1"
  }
 },
 "nbformat": 4,
 "nbformat_minor": 5
}
