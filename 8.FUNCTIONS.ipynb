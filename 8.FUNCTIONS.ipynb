{
 "cells": [
  {
   "cell_type": "markdown",
   "id": "408145a9-2879-4061-b61f-2e266dc7350b",
   "metadata": {},
   "source": [
    "# FUNCTIONS"
   ]
  },
  {
   "cell_type": "markdown",
   "id": "f116f792-5ae4-415b-b99b-dad56be2426e",
   "metadata": {},
   "source": [
    "## What is a Function?\n",
    "\n",
    "A **function** is a reusable block of code that performs a specific task.\n",
    "\n",
    "A function is a block of code which only runs when it is called.\n",
    "\n",
    "You can pass data, known as parameters, into a function.\n",
    "\n",
    "A function can return data as a result.\n",
    "\n",
    "\n",
    "Benefits:\n",
    "- Improves code readability\n",
    "- Reduces repetition\n",
    "- Easier debugging and testing\n",
    "\n",
    "---\n",
    "\n"
   ]
  },
  {
   "cell_type": "markdown",
   "id": "ea3215a2-58a2-4d17-a649-9f4102395455",
   "metadata": {},
   "source": [
    "## Syntax:"
   ]
  },
  {
   "cell_type": "code",
   "execution_count": null,
   "id": "e976cb50-9e64-49b9-af89-c250307b96f3",
   "metadata": {},
   "outputs": [],
   "source": [
    "def function_name(parameters):\n",
    "    #code block\n",
    "    return result"
   ]
  },
  {
   "cell_type": "raw",
   "id": "cf396586-7d93-4d53-adda-76de03ceb1d9",
   "metadata": {},
   "source": [
    "#def          ==> keyword to define a function\n",
    "#function_name==> user given func.name\n",
    "#paramters    ==>i/p values  (optional)\n",
    "#code block\n",
    "#return       ==> value user want to send back(optional)\n"
   ]
  },
  {
   "cell_type": "markdown",
   "id": "db7e2d0b-f60e-49dc-a8dd-0f3721c484e0",
   "metadata": {},
   "source": [
    "## Defining a Function"
   ]
  },
  {
   "cell_type": "code",
   "execution_count": null,
   "id": "2b361307-2a3d-496f-9cf8-83eea8060f73",
   "metadata": {},
   "outputs": [],
   "source": [
    "def greet():\n",
    "    print(\"Hello, welcome to Python!\")\n"
   ]
  },
  {
   "cell_type": "markdown",
   "id": "7c8bb4f4-dec3-4479-9054-acaa08dd0f05",
   "metadata": {},
   "source": [
    "## To call the function:\n",
    "To call a function, use the function name followed by parenthesis:\n",
    "\n"
   ]
  },
  {
   "cell_type": "code",
   "execution_count": null,
   "id": "e98252cd-357b-457e-b31a-f9844217653c",
   "metadata": {},
   "outputs": [],
   "source": [
    "greet()"
   ]
  },
  {
   "cell_type": "markdown",
   "id": "6b5176cf-347c-426a-b746-3bd174e749fc",
   "metadata": {},
   "source": [
    "## Function with Parameters\n",
    "Information can be passed into functions as arguments.\n",
    "\n",
    "Arguments are specified after the function name, inside the parentheses. You can add as many arguments as you want, just separate them with a comma.\n",
    "\n",
    "The terms parameter and argument can be used for the same thing: information that are passed into a function.\n",
    "\n",
    "- A **parameter** is the variable listed inside the parentheses in the function definition.\n",
    "\n",
    "- An **argument** is the value that is sent to the function when it is called."
   ]
  },
  {
   "cell_type": "code",
   "execution_count": 2,
   "id": "d0003f11-9487-4da3-92d7-b02dbac4aec6",
   "metadata": {},
   "outputs": [
    {
     "name": "stdout",
     "output_type": "stream",
     "text": [
      "Hello, Alice!\n"
     ]
    }
   ],
   "source": [
    "def greet(name):\n",
    "    print(f\"Hello, {name}!\")\n",
    "\n",
    "greet(\"Alice\")\n"
   ]
  },
  {
   "cell_type": "markdown",
   "id": "3065730f-6be7-42d0-a061-7e0b96d845ef",
   "metadata": {},
   "source": [
    "## Function with Return Value\n",
    "To let a function return a value, use the return statement:\n",
    "\n"
   ]
  },
  {
   "cell_type": "code",
   "execution_count": 3,
   "id": "bfbcdac7-7064-4347-a0df-8915e71783e2",
   "metadata": {},
   "outputs": [
    {
     "name": "stdout",
     "output_type": "stream",
     "text": [
      "Square: 16\n"
     ]
    }
   ],
   "source": [
    "def square(n):\n",
    "    return n * n\n",
    "\n",
    "result = square(4)\n",
    "print(\"Square:\", result)\n"
   ]
  },
  {
   "cell_type": "markdown",
   "id": "13656ee8-cb18-4c87-82ac-59cd0f61f1b7",
   "metadata": {},
   "source": [
    "## Multiple Parameters\n",
    "By default, a function must be called with the correct number of arguments. Meaning that if your function expects 2 arguments, you have to call the function with 2 arguments, not more, and not less.\n",
    "\n"
   ]
  },
  {
   "cell_type": "code",
   "execution_count": 4,
   "id": "dad10b7e-5628-409d-bad4-0f03d72992e1",
   "metadata": {},
   "outputs": [
    {
     "name": "stdout",
     "output_type": "stream",
     "text": [
      "8\n"
     ]
    }
   ],
   "source": [
    "def add(a, b):\n",
    "    return a + b\n",
    "\n",
    "print(add(5, 3))\n"
   ]
  },
  {
   "cell_type": "markdown",
   "id": "cfec4a77-b85e-48ab-a89c-9e4638f32702",
   "metadata": {},
   "source": [
    "## Default Parameters\n",
    "If we call the function without argument, it uses the default value:\n",
    "\n"
   ]
  },
  {
   "cell_type": "code",
   "execution_count": 6,
   "id": "7f33cfe7-cbb9-4041-aae9-f1c400374fea",
   "metadata": {},
   "outputs": [
    {
     "name": "stdout",
     "output_type": "stream",
     "text": [
      "Hello, Guest!\n",
      "Hello, John!\n"
     ]
    }
   ],
   "source": [
    "def greet(name=\"Guest\"):\n",
    "    print(f\"Hello, {name}!\")\n",
    "\n",
    "greet()         # Hello, Guest\n",
    "greet(\"John\")   # Hello, John\n"
   ]
  },
  {
   "cell_type": "markdown",
   "id": "df3c9552-4c93-4e3c-a084-e22a6bf60320",
   "metadata": {},
   "source": [
    "## Keyword Arguments\n",
    "You can also send arguments with the key = value syntax.\n",
    "\n",
    "This way the order of the arguments does not matter."
   ]
  },
  {
   "cell_type": "code",
   "execution_count": 7,
   "id": "63078098-c1be-4df7-b2c0-82424d94cc7e",
   "metadata": {},
   "outputs": [
    {
     "name": "stdout",
     "output_type": "stream",
     "text": [
      "Name: Alice, Age: 20\n"
     ]
    }
   ],
   "source": [
    "def student_info(name, age):\n",
    "    print(f\"Name: {name}, Age: {age}\")\n",
    "\n",
    "student_info(age=20, name=\"Alice\")\n"
   ]
  },
  {
   "cell_type": "markdown",
   "id": "bf811d4b-c043-4975-a722-9c69e9630c81",
   "metadata": {},
   "source": [
    "## Variable-Length Arguments \n",
    "### Arbitrary Arguments, *args\n",
    "If you do not know how many arguments that will be passed into your function, add a * before the parameter name in the function definition.\n",
    "\n",
    "This way the function will receive a tuple of arguments, and can access the items accordingly\n",
    "\n",
    "### Arbitrary Keyword Arguments, **kwargs\n",
    "If you do not know how many keyword arguments that will be passed into your function, add two asterisk: ** before the parameter name in the function definition.\n",
    "\n",
    "This way the function will receive a dictionary of arguments, and can access the items accordingly\n"
   ]
  },
  {
   "cell_type": "code",
   "execution_count": null,
   "id": "aa088f3f-2af9-4681-9b6f-d18fd12d28ca",
   "metadata": {},
   "outputs": [],
   "source": [
    "# *args = variable number of positional arguments\n",
    "def total(*nums):\n",
    "    return sum(nums)\n",
    "\n",
    "print(total(1, 2, 3, 4))   # 10\n",
    "\n",
    "# **kwargs = variable number of keyword arguments\n",
    "def show_data(**info):\n",
    "    for key, value in info.items():\n",
    "        print(f\"{key}: {value}\")\n",
    "\n",
    "show_data(name=\"Bob\", age=25)\n"
   ]
  },
  {
   "cell_type": "markdown",
   "id": "95752f12-0caf-4a86-9654-75d506efe324",
   "metadata": {},
   "source": [
    "## Passing a List as an Argument\n",
    "You can send any data types of argument to a function (string, number, list, dictionary etc.), and it will be treated as the same data type inside the function.\n",
    "\n"
   ]
  },
  {
   "cell_type": "code",
   "execution_count": null,
   "id": "bdfd940e-2b2f-4b4d-a342-c7356efb7ed3",
   "metadata": {},
   "outputs": [],
   "source": [
    "def my_function(food):\n",
    "  for x in food:\n",
    "    print(x)\n",
    "\n",
    "fruits = [\"apple\", \"banana\", \"cherry\"]\n",
    "\n",
    "my_function(fruits)"
   ]
  },
  {
   "cell_type": "markdown",
   "id": "6aa57253-df21-47f3-91fc-4b8580b5a2f1",
   "metadata": {},
   "source": [
    "## Function Inside Function (Nested)"
   ]
  },
  {
   "cell_type": "code",
   "execution_count": 8,
   "id": "f0bf6a08-ef97-48c8-8c0a-9b3e66358865",
   "metadata": {},
   "outputs": [
    {
     "name": "stdout",
     "output_type": "stream",
     "text": [
      "Outer function\n",
      "Inner function\n"
     ]
    }
   ],
   "source": [
    "def outer():\n",
    "    def inner():\n",
    "        print(\"Inner function\")\n",
    "    print(\"Outer function\")\n",
    "    inner()\n",
    "    \n",
    "outer()\n"
   ]
  },
  {
   "cell_type": "markdown",
   "id": "ae117e04-0bb4-40f4-9740-cc85cfc8f739",
   "metadata": {},
   "source": [
    "## Lambda (Anonymous) Functions"
   ]
  },
  {
   "cell_type": "code",
   "execution_count": 10,
   "id": "1b141bfb-998c-4fb2-b78b-523c5965ae99",
   "metadata": {},
   "outputs": [
    {
     "name": "stdout",
     "output_type": "stream",
     "text": [
      "25\n",
      "[1, 4, 9]\n"
     ]
    }
   ],
   "source": [
    "# One-line function\n",
    "square = lambda x: x * x\n",
    "print(square(5))  # 25\n",
    "\n",
    "# Lambda with map\n",
    "nums = [1, 2, 3]\n",
    "squares = list(map(lambda x: x**2, nums))\n",
    "print(squares)\n"
   ]
  },
  {
   "cell_type": "markdown",
   "id": "92229ec2-9ee4-499c-b910-97989af9e9ab",
   "metadata": {},
   "source": [
    "## Recursion\n",
    "A function calling itself.This has the benefit of meaning that you can loop through data to reach a result."
   ]
  },
  {
   "cell_type": "code",
   "execution_count": 11,
   "id": "18ac885d-7a6b-4bf5-84f8-f066debb0ca5",
   "metadata": {},
   "outputs": [
    {
     "name": "stdout",
     "output_type": "stream",
     "text": [
      "120\n"
     ]
    }
   ],
   "source": [
    "def factorial(n):\n",
    "    if n == 1:\n",
    "        return 1\n",
    "    else:\n",
    "        return n * factorial(n - 1)\n",
    "\n",
    "print(factorial(5))  # 120\n"
   ]
  },
  {
   "cell_type": "markdown",
   "id": "6c3bcbf7-04fb-4075-89c4-ec408d9d5671",
   "metadata": {},
   "source": [
    "##  Practice Problems"
   ]
  },
  {
   "cell_type": "code",
   "execution_count": null,
   "id": "7c3d0838-786f-4b1c-954b-995d0db36385",
   "metadata": {},
   "outputs": [],
   "source": [
    "# 1. Check if a number is even\n",
    "def is_even(n):\n",
    "    return n % 2 == 0"
   ]
  },
  {
   "cell_type": "code",
   "execution_count": null,
   "id": "c61084fd-11f8-4681-a447-df9d22dcf8d0",
   "metadata": {},
   "outputs": [],
   "source": [
    "# 2. Return the maximum of 3 numbers\n",
    "def max_of_three(a, b, c):\n",
    "    return max(a, b, c)"
   ]
  },
  {
   "cell_type": "code",
   "execution_count": null,
   "id": "5afee5e4-5ac9-4df3-b7fa-91e3915e257a",
   "metadata": {},
   "outputs": [],
   "source": [
    "# 3. Count vowels in a string\n",
    "def count_vowels(s):\n",
    "    return sum(1 for char in s.lower() if char in \"aeiou\")"
   ]
  },
  {
   "cell_type": "markdown",
   "id": "d8fd3038-28c7-42ea-bd0d-3b5e52b5de78",
   "metadata": {},
   "source": [
    "## Summary Table"
   ]
  },
  {
   "cell_type": "markdown",
   "id": "575ecf41-1846-4498-88eb-2e482e1007fd",
   "metadata": {},
   "source": [
    "| Concept              | Syntax Example        |\n",
    "| -------------------- | --------------------- |\n",
    "| Define function      | `def func():`         |\n",
    "| Call function        | `func()`              |\n",
    "| With parameters      | `def greet(name):`    |\n",
    "| With return          | `return value`        |\n",
    "| Default args         | `def func(x=0):`      |\n",
    "| `*args` / `**kwargs` | `def func(*a, **b):`  |\n",
    "| Lambda function      | `lambda x: x*2`       |\n",
    "| Recursion            | `func() calls itself` |\n"
   ]
  },
  {
   "cell_type": "markdown",
   "id": "9ab859d0-7b98-4567-94c5-af5b999ca5b5",
   "metadata": {},
   "source": [
    "Functions make your code modular, reusable, and organized — an essential building block of Python programming!"
   ]
  }
 ],
 "metadata": {
  "kernelspec": {
   "display_name": "Python 3 (ipykernel)",
   "language": "python",
   "name": "python3"
  },
  "language_info": {
   "codemirror_mode": {
    "name": "ipython",
    "version": 3
   },
   "file_extension": ".py",
   "mimetype": "text/x-python",
   "name": "python",
   "nbconvert_exporter": "python",
   "pygments_lexer": "ipython3",
   "version": "3.13.1"
  }
 },
 "nbformat": 4,
 "nbformat_minor": 5
}
