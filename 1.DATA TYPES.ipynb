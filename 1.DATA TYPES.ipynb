{
 "cells": [
  {
   "cell_type": "markdown",
   "id": "c4797999-b08f-4546-af7d-ad0b4aea8cd6",
   "metadata": {},
   "source": [
    "# DATA TYPES IN PYTHON\n",
    "   - A data type is the characteristic of a variable that determines what kind of data it can hold.\n",
    "   - **Text Type**:\tstr\n",
    "   - **Numeric Types**:\tint, float, complex\n",
    "   - **Sequence Types**:\tlist, tuple, range\n",
    "   - **Mapping Type**:\tdict\n",
    "   - **Set Types**:\tset, frozenset\n",
    "   - **Boolean Type**:\tbool\n",
    "   - **None Type**:\tNoneType\n",
    "## Use the type() function to check the type of any variable."
   ]
  },
  {
   "cell_type": "markdown",
   "id": "88f022ba-ecca-4392-8e21-7a63661dd127",
   "metadata": {},
   "source": [
    "## 1. Numeric Types\n",
    "- Integer\n",
    "- Float\n",
    "- Complex"
   ]
  },
  {
   "cell_type": "markdown",
   "id": "bb6b35d2-9687-4a47-a814-f3434df7281f",
   "metadata": {},
   "source": [
    "### Integer\n",
    "Int, or integer, is a whole number, positive or negative, without decimals, of unlimited length.\n",
    "\n",
    "\n",
    "\n"
   ]
  },
  {
   "cell_type": "code",
   "execution_count": null,
   "id": "0a856dab-8f45-4f7f-8f48-4cc3871416da",
   "metadata": {},
   "outputs": [],
   "source": [
    "x = 10            # int\n",
    "print(type(x))    # <class 'int'>"
   ]
  },
  {
   "cell_type": "markdown",
   "id": "37ca4a03-0417-4ffa-92e4-72dc457b0df5",
   "metadata": {},
   "source": [
    "### Float\n",
    "Float, or \"floating point number\" is a number, positive or negative, containing one or more decimals.\n",
    "\n"
   ]
  },
  {
   "cell_type": "code",
   "execution_count": null,
   "id": "3571cf14-503b-40e0-ae58-b77eb17dfd94",
   "metadata": {},
   "outputs": [],
   "source": [
    "y = 3.14          # float\n",
    "print(type(y))    # <class 'float'>"
   ]
  },
  {
   "cell_type": "markdown",
   "id": "6be48547-ad03-49d6-a3fe-5f65f9ab0095",
   "metadata": {},
   "source": [
    "### Complex\n",
    "Complex numbers are written with a \"j\" as the imaginary part:\n",
    "\n"
   ]
  },
  {
   "cell_type": "code",
   "execution_count": null,
   "id": "423279c5-bbc8-4515-a738-d50c09ef13e5",
   "metadata": {},
   "outputs": [],
   "source": [
    "z = 2 + 3j        # complex\n",
    "print(type(z))    # <class 'complex'>"
   ]
  },
  {
   "cell_type": "markdown",
   "id": "36d7eeea-75f2-425f-bed0-62315cd1951f",
   "metadata": {},
   "source": [
    "## Type Conversion\n",
    "You can convert from one type to another with the int(), float(), and complex() methods:\n",
    "\n",
    "\n"
   ]
  },
  {
   "cell_type": "code",
   "execution_count": 3,
   "id": "f484079f-5e39-44e0-aaa5-30dd46bb1ad9",
   "metadata": {},
   "outputs": [
    {
     "name": "stdout",
     "output_type": "stream",
     "text": [
      "1.0\n",
      "2\n",
      "(1+0j)\n",
      "<class 'float'>\n",
      "<class 'int'>\n",
      "<class 'complex'>\n"
     ]
    }
   ],
   "source": [
    "x = 1    # int\n",
    "y = 2.8  # float\n",
    "z = 1j   # complex\n",
    "\n",
    "#convert from int to float:\n",
    "a = float(x)\n",
    "\n",
    "#convert from float to int:\n",
    "b = int(y)\n",
    "\n",
    "#convert from int to complex:\n",
    "c = complex(x)\n",
    "\n",
    "print(a)\n",
    "print(b)\n",
    "print(c)\n",
    "\n",
    "print(type(a))\n",
    "print(type(b))\n",
    "print(type(c))"
   ]
  },
  {
   "cell_type": "markdown",
   "id": "3ebc8135-36a3-46d8-921c-738290605ecf",
   "metadata": {},
   "source": [
    "## 2. Text Type\n",
    "- String"
   ]
  },
  {
   "cell_type": "markdown",
   "id": "b7e269c3-d2a3-4caf-be70-90284023d63b",
   "metadata": {},
   "source": [
    "## String\n",
    "- Strings in python are surrounded by either single quotation marks, or double quotation marks.\n",
    "\n",
    "- 'hello' is the same as \"hello\".\n",
    "\n",
    "- We can use quotes inside a string, as long as they don't match the quotes surrounding the string.\n",
    "\n",
    "- We can assign a multiline string to a variable by using three quotes ''' ---- '''.\n",
    "\n",
    "\n"
   ]
  },
  {
   "cell_type": "code",
   "execution_count": null,
   "id": "3b0277d0-5d76-44b5-a59a-001c9652c204",
   "metadata": {},
   "outputs": [],
   "source": [
    "name = \"Python is fun\"\n",
    "print(type(name))   # <class 'str'>"
   ]
  },
  {
   "cell_type": "markdown",
   "id": "683f91d8-28d9-407d-a23e-18bc9a9c82e4",
   "metadata": {},
   "source": [
    "##  3.Boolean Type\n",
    "- Booleans represent one of two values: True or False.\n",
    "\n",
    "- When you compare two values, the expression is evaluated and Python returns the Boolean answer\n",
    "\n"
   ]
  },
  {
   "cell_type": "code",
   "execution_count": 4,
   "id": "ac1d4c27-338e-4c4c-a98e-86ed4acac8e7",
   "metadata": {},
   "outputs": [
    {
     "name": "stdout",
     "output_type": "stream",
     "text": [
      "True\n",
      "False\n",
      "False\n"
     ]
    }
   ],
   "source": [
    "print(10 > 9)\n",
    "print(10 == 9)\n",
    "print(10 < 9)"
   ]
  },
  {
   "cell_type": "code",
   "execution_count": null,
   "id": "55593d71-79f7-49db-84b7-8b66384b5a56",
   "metadata": {},
   "outputs": [],
   "source": [
    "is_valid = True        #False\n",
    "print(type(is_valid))  # <class 'bool'>"
   ]
  },
  {
   "cell_type": "markdown",
   "id": "ce84288d-5970-43e8-8a8a-e36d182631f4",
   "metadata": {},
   "source": [
    "## 4. Sequence Types\n",
    "- Lists\n",
    "- Tuple\n",
    "- range"
   ]
  },
  {
   "cell_type": "markdown",
   "id": "7f03fa29-6ad7-44f4-996c-1311b82bfcdf",
   "metadata": {},
   "source": [
    "### List\n",
    "- Lists are used to store multiple items in a single variable.\n",
    "\n",
    "- Lists are one of 4 built-in data types in Python used to store collections of data, the other 3 are Tuple, Set, and Dictionary, all with different qualities and usage.\n",
    "\n",
    "- Lists are created using square brackets\n",
    "\n"
   ]
  },
  {
   "cell_type": "code",
   "execution_count": null,
   "id": "58d745ea-e08a-40d6-b226-37359b82b36a",
   "metadata": {},
   "outputs": [],
   "source": [
    "my_list = [1, 2, 3]\n",
    "print(type(my_list))    # <class 'list'>"
   ]
  },
  {
   "cell_type": "markdown",
   "id": "cab431e0-afc2-4699-9621-62453041cb6e",
   "metadata": {},
   "source": [
    "### Tuple\n",
    "- Tuples are used to store multiple items in a single variable.\n",
    "\n",
    "- Tuple is one of 4 built-in data types in Python used to store collections of data, the other 3 are List, Set, and Dictionary, all with different qualities and usage.\n",
    "\n",
    "- A tuple is a collection which is ordered and unchangeable.\n",
    "\n",
    "- Tuples are written with round brackets."
   ]
  },
  {
   "cell_type": "code",
   "execution_count": null,
   "id": "bfce0512-0e39-4ef7-b753-14baeb82c8ee",
   "metadata": {},
   "outputs": [],
   "source": [
    "my_tuple = (10, 20, 30)\n",
    "print(type(my_tuple))   # <class 'tuple'>"
   ]
  },
  {
   "cell_type": "markdown",
   "id": "e2750ae9-b753-45a8-b986-68eafaa7c439",
   "metadata": {},
   "source": [
    "### Range"
   ]
  },
  {
   "cell_type": "code",
   "execution_count": null,
   "id": "15d851e3-ad0e-4b16-ba98-5c501790ac8f",
   "metadata": {},
   "outputs": [],
   "source": [
    "r = range(5)\n",
    "print(type(r))          # <class 'range'>"
   ]
  },
  {
   "cell_type": "markdown",
   "id": "44df5e67-20c7-4e19-8e66-b56d14e258ed",
   "metadata": {},
   "source": [
    "## 5. Set Types"
   ]
  },
  {
   "cell_type": "markdown",
   "id": "ad3e8d60-75a9-441d-9c76-b8f09843457c",
   "metadata": {},
   "source": [
    "### Set (unordered, no duplicates)\n",
    "- Sets are used to store multiple items in a single variable.\n",
    "\n",
    "- Set is one of 4 built-in data types in Python used to store collections of data, the other 3 are List, Tuple, and Dictionary, all with different qualities and usage.\n",
    "\n",
    "- A set is a collection which is unordered, unchangeable*, and unindexed."
   ]
  },
  {
   "cell_type": "code",
   "execution_count": null,
   "id": "f59e95f6-55c5-448a-a0e2-df9ed7a65de3",
   "metadata": {},
   "outputs": [],
   "source": [
    "s = {1, 2, 3}\n",
    "print(type(s))          # <class 'set'>"
   ]
  },
  {
   "cell_type": "markdown",
   "id": "7db38c1d-f56e-43ff-a980-55480715345d",
   "metadata": {},
   "source": [
    "## 6. Mapping Type"
   ]
  },
  {
   "cell_type": "markdown",
   "id": "b07bd1d5-0f61-44c9-90ee-6027f7326747",
   "metadata": {},
   "source": [
    "### Dictionary (key-value pairs)\n",
    "- Dictionaries are used to store data values in key:value pairs.\n",
    "\n",
    "- A dictionary is a collection which is ordered*, changeable and do not allow duplicates.\n",
    "\n",
    "- Dictionaries are written with curly brackets, and have keys and values:\n",
    "\n"
   ]
  },
  {
   "cell_type": "code",
   "execution_count": null,
   "id": "d1241539-789c-43cf-af0f-f3eeff394cbc",
   "metadata": {},
   "outputs": [],
   "source": [
    "my_dict = {'name': 'Alice', 'age': 25}\n",
    "print(type(my_dict))    # <class 'dict'>"
   ]
  },
  {
   "cell_type": "markdown",
   "id": "238bf60c-c7ee-4d9a-ab36-d7fc5e7397de",
   "metadata": {},
   "source": [
    "## 7. NoneType"
   ]
  },
  {
   "cell_type": "markdown",
   "id": "78713a03-8e5b-4497-826d-1cdb06bd9d45",
   "metadata": {},
   "source": [
    "### None represents the absence of a value"
   ]
  },
  {
   "cell_type": "code",
   "execution_count": null,
   "id": "c334858e-8014-4e72-aea2-a280dd2901d6",
   "metadata": {},
   "outputs": [],
   "source": [
    "a = None\n",
    "print(type(a))          # <class 'NoneType'>"
   ]
  },
  {
   "cell_type": "markdown",
   "id": "7c6fa336-cf3b-447c-ae5c-ef60ee65dabe",
   "metadata": {},
   "source": [
    "# Setting the Specific Data Type\n"
   ]
  },
  {
   "cell_type": "code",
   "execution_count": null,
   "id": "6824a67d-476f-4e8e-8e8f-069454f36202",
   "metadata": {},
   "outputs": [],
   "source": [
    "x = str(\"Hello World\")\t                        #str\t\n",
    "x = int(20)                                     #int\t\n",
    "x = float(20.5)\t                                #float\t\n",
    "x = complex(1j)\t                                #complex\t\n",
    "x = list((\"apple\", \"banana\", \"cherry\"))      \t#list\t\n",
    "x = tuple((\"apple\", \"banana\", \"cherry\"))\t    #tuple\t\n",
    "x = range(6)\t                                #range\t\n",
    "x = dict(name=\"John\", age=36)\t                #dict\t\n",
    "x = set((\"apple\", \"banana\", \"cherry\"))\t        #set"
   ]
  }
 ],
 "metadata": {
  "kernelspec": {
   "display_name": "Python 3 (ipykernel)",
   "language": "python",
   "name": "python3"
  },
  "language_info": {
   "codemirror_mode": {
    "name": "ipython",
    "version": 3
   },
   "file_extension": ".py",
   "mimetype": "text/x-python",
   "name": "python",
   "nbconvert_exporter": "python",
   "pygments_lexer": "ipython3",
   "version": "3.13.1"
  }
 },
 "nbformat": 4,
 "nbformat_minor": 5
}
