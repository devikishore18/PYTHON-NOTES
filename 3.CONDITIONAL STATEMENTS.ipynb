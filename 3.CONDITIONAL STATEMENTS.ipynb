{
 "cells": [
  {
   "cell_type": "markdown",
   "id": "db384e63-7605-479c-b63b-75c99f73f55b",
   "metadata": {},
   "source": [
    "# Conditional Statements and loops - if,for,while"
   ]
  },
  {
   "cell_type": "markdown",
   "id": "0679fb76-7df9-47f6-8bfb-8b845b05c261",
   "metadata": {},
   "source": [
    "## What are Conditional Statements?\n",
    "Conditional statements let you **execute code based on conditions** — such as comparing values, checking user input, or branching logic.\n",
    "\n",
    "---\n",
    "\n",
    "## Types of Conditionals in Python:\n",
    "\n",
    "- `if`\n",
    "- `if...else`\n",
    "- `if...elif...else`\n",
    "- Nested `if`\n",
    "- Ternary conditional (inline if)\n",
    "\n",
    "---\n",
    "\n",
    "Python supports the usual logical conditions from mathematics:\n",
    "\n",
    "- Equals: a == b\n",
    "- Not Equals: a != b\n",
    "- Less than: a < b\n",
    "- Less than or equal to: a <= b\n",
    "- Greater than: a > b\n",
    "- Greater than or equal to: a >= b\n",
    "- These conditions can be used in several ways, most commonly in \"if statements\" and loops.\n",
    "\n",
    "### Indentation\n",
    "Python relies on indentation (whitespace at the beginning of a line) to define scope in the code. Other programming languages often use curly-brackets for this purpose.\n",
    "\n",
    "## Basic `if` Statement\n",
    "\n",
    "\n"
   ]
  },
  {
   "cell_type": "markdown",
   "id": "bd513b9a-9d3a-4cf9-a93f-fc9f675d107b",
   "metadata": {},
   "source": [
    "If the condition is True, the indented block runs."
   ]
  },
  {
   "cell_type": "code",
   "execution_count": 10,
   "id": "7c60cb46-4b0b-41c7-928c-2b39610e75a3",
   "metadata": {
    "scrolled": true
   },
   "outputs": [
    {
     "name": "stdout",
     "output_type": "stream",
     "text": [
      "x is greater than 5\n"
     ]
    }
   ],
   "source": [
    "x = 10\n",
    "\n",
    "if x > 5:\n",
    "    print(\"x is greater than 5\")\n"
   ]
  },
  {
   "cell_type": "markdown",
   "id": "8b14ca87-3212-4259-9fe4-caa0ef286426",
   "metadata": {},
   "source": [
    "## if...else Statement\n",
    "- The else keyword catches anything which isn't caught by the preceding conditions.\n",
    "\n"
   ]
  },
  {
   "cell_type": "code",
   "execution_count": 7,
   "id": "113902d0-7d16-455c-80b2-96d98d4ec219",
   "metadata": {},
   "outputs": [
    {
     "name": "stdout",
     "output_type": "stream",
     "text": [
      "You cannot vote yet\n"
     ]
    }
   ],
   "source": [
    "age = 17\n",
    "\n",
    "if age >= 18:\n",
    "    print(\"You can vote\")\n",
    "else:\n",
    "    print(\"You cannot vote yet\")\n"
   ]
  },
  {
   "cell_type": "code",
   "execution_count": 6,
   "id": "d0186fc7-6e78-4e18-84e9-c260d4434d22",
   "metadata": {},
   "outputs": [
    {
     "name": "stdin",
     "output_type": "stream",
     "text": [
      "enter your age 19\n"
     ]
    },
    {
     "name": "stdout",
     "output_type": "stream",
     "text": [
      "you are eligible to work\n"
     ]
    }
   ],
   "source": [
    "age=int(input(\"enter your age\"))\n",
    "if age>=18:                               #indentation\n",
    "    print('you are eligible to work')\n",
    "else:\n",
    "    print(\"you are not eligible to work\")"
   ]
  },
  {
   "cell_type": "markdown",
   "id": "45366c1e-a675-41db-9ea8-7cc5b9229a3f",
   "metadata": {},
   "source": [
    "## if...elif...else Ladder\n",
    "- **elif** - \"if the previous conditions were not true, then try this condition\"."
   ]
  },
  {
   "cell_type": "code",
   "execution_count": 8,
   "id": "d224d1b9-845b-47fc-8bcc-9337909fe55e",
   "metadata": {},
   "outputs": [
    {
     "name": "stdout",
     "output_type": "stream",
     "text": [
      "Grade B\n"
     ]
    }
   ],
   "source": [
    "marks = 85\n",
    "\n",
    "if marks >= 90:\n",
    "    print(\"Grade A\")\n",
    "elif marks >= 75:\n",
    "    print(\"Grade B\")\n",
    "elif marks >= 60:\n",
    "    print(\"Grade C\")\n",
    "else:\n",
    "    print(\"Grade D\")\n",
    "#Use elif when there are multiple conditions to check in order."
   ]
  },
  {
   "cell_type": "code",
   "execution_count": 9,
   "id": "a7ed4fb2-89eb-4af1-aa68-b8800e9578a5",
   "metadata": {},
   "outputs": [
    {
     "name": "stdin",
     "output_type": "stream",
     "text": [
      "enter a number 7\n"
     ]
    },
    {
     "name": "stdout",
     "output_type": "stream",
     "text": [
      "number is postive\n"
     ]
    }
   ],
   "source": [
    "x=int(input(\"enter a number\"))\n",
    "if x>0:\n",
    "    print(\"number is postive\")\n",
    "elif x==0:\n",
    "    print(\"number is zero\")\n",
    "else:\n",
    "    print(\"number is negative\")"
   ]
  },
  {
   "cell_type": "markdown",
   "id": "0997cdfd-0a4d-4cb8-b4cb-a04e54b869eb",
   "metadata": {},
   "source": [
    "## Nested if Statements\n",
    "- You can have if statements inside if statements, this is called nested if statements.\n",
    "\n"
   ]
  },
  {
   "cell_type": "code",
   "execution_count": 11,
   "id": "f5215618-2e93-405d-91bf-657942adbfdb",
   "metadata": {},
   "outputs": [
    {
     "name": "stdout",
     "output_type": "stream",
     "text": [
      "Positive odd number\n"
     ]
    }
   ],
   "source": [
    "num = 15\n",
    "\n",
    "if num > 0:\n",
    "    if num % 2 == 0:\n",
    "        print(\"Positive even number\")\n",
    "    else:\n",
    "        print(\"Positive odd number\")\n",
    "else:\n",
    "    print(\"Not a positive number\")\n"
   ]
  },
  {
   "cell_type": "code",
   "execution_count": 12,
   "id": "d32979a4-af32-4174-a36d-404e722ae5a0",
   "metadata": {},
   "outputs": [
    {
     "name": "stdout",
     "output_type": "stream",
     "text": [
      "you can vote\n"
     ]
    }
   ],
   "source": [
    "age=20\n",
    "id= True   #boolean of input\n",
    "if age>=18:\n",
    "    if id:\n",
    "        print(\"you can vote\")\n",
    "    else:\n",
    "        print(\"need id to vote\")\n",
    "else:\n",
    "    print (\"you are too young\")"
   ]
  },
  {
   "cell_type": "markdown",
   "id": "58c9f8c2-545c-46d9-a8cb-8559f256321b",
   "metadata": {},
   "source": [
    "## Inline If (Ternary Operator)\n",
    "- If you have only one statement to execute, one for if, and one for else, you can put it all on the same line:\n",
    "\n",
    "\n"
   ]
  },
  {
   "cell_type": "code",
   "execution_count": 13,
   "id": "4ec89071-e3e9-4c05-ab95-c2001b3ac099",
   "metadata": {},
   "outputs": [
    {
     "name": "stdout",
     "output_type": "stream",
     "text": [
      "Odd\n"
     ]
    }
   ],
   "source": [
    "x = 5\n",
    "result = \"Even\" if x % 2 == 0 else \"Odd\"\n",
    "print(result)\n",
    "#One-liner for simple conditions."
   ]
  },
  {
   "cell_type": "markdown",
   "id": "fa8e0b0a-2dd4-4212-92ea-84ea302007fa",
   "metadata": {},
   "source": [
    "## Logical Operators with Conditions\n",
    "- The `and`, `or` keyword is a logical operator, and is used to combine conditional statements:\n",
    "\n",
    "- The `not` keyword is a logical operator, and is used to reverse the result of the conditional statement:\n",
    "\n",
    "\n"
   ]
  },
  {
   "cell_type": "code",
   "execution_count": 14,
   "id": "9689edf3-4958-43ec-b408-f5b930cb99e7",
   "metadata": {},
   "outputs": [
    {
     "name": "stdout",
     "output_type": "stream",
     "text": [
      "Entry allowed\n"
     ]
    }
   ],
   "source": [
    "age = 20\n",
    "has_id = True\n",
    "\n",
    "if age >= 18 and has_id:\n",
    "    print(\"Entry allowed\")\n"
   ]
  },
  {
   "cell_type": "markdown",
   "id": "cd65d697-7316-4633-85bc-2df94d987ef6",
   "metadata": {},
   "source": [
    "| Operator | Meaning       | Example            |\n",
    "| -------- | ------------- | ------------------ |\n",
    "| `and`    | Both true     | `x > 5 and x < 10` |\n",
    "| `or`     | At least one  | `x < 0 or x > 100` |\n",
    "| `not`    | Inverts value | `not is_raining`   |\n"
   ]
  },
  {
   "cell_type": "markdown",
   "id": "31a6d3ea-beec-46a6-a663-4631d118b81d",
   "metadata": {},
   "source": [
    "## Comparison Operators"
   ]
  },
  {
   "cell_type": "markdown",
   "id": "ec838d88-c5e2-416f-b61a-c3ba227366f0",
   "metadata": {},
   "source": [
    "| Operator | Meaning          | Example  |\n",
    "| -------- | ---------------- | -------- |\n",
    "| `==`     | Equal to         | `x == y` |\n",
    "| `!=`     | Not equal to     | `x != y` |\n",
    "| `>`      | Greater than     | `x > y`  |\n",
    "| `<`      | Less than        | `x < y`  |\n",
    "| `>=`     | Greater or equal | `x >= y` |\n",
    "| `<=`     | Less or equal    | `x <= y` |\n"
   ]
  },
  {
   "cell_type": "markdown",
   "id": "a4670854-076e-4a87-b752-ae36da2e8bd6",
   "metadata": {},
   "source": [
    "## Practice Problems using if"
   ]
  },
  {
   "cell_type": "code",
   "execution_count": 2,
   "id": "8f13141e-c93c-4ebd-813c-59d1a1b287e2",
   "metadata": {},
   "outputs": [
    {
     "name": "stdout",
     "output_type": "stream",
     "text": [
      "Negative\n"
     ]
    }
   ],
   "source": [
    "# 1. Check if a number is positive, negative, or zero\n",
    "num = -5\n",
    "if num > 0:\n",
    "    print(\"Positive\")\n",
    "elif num < 0:\n",
    "    print(\"Negative\")\n",
    "else:\n",
    "    print(\"Zero\")"
   ]
  },
  {
   "cell_type": "code",
   "execution_count": 3,
   "id": "173b2bf2-e770-4cfb-b96e-3e7d71cc6344",
   "metadata": {},
   "outputs": [
    {
     "name": "stdout",
     "output_type": "stream",
     "text": [
      "Leap Year\n"
     ]
    }
   ],
   "source": [
    "# 2. Check if a year is a leap year\n",
    "year = 2024\n",
    "if (year % 4 == 0 and year % 100 != 0) or (year % 400 == 0):\n",
    "    print(\"Leap Year\")\n",
    "else:\n",
    "    print(\"Not a Leap Year\")"
   ]
  },
  {
   "cell_type": "code",
   "execution_count": 4,
   "id": "3eef069d-9c65-4a75-8782-d94818b25946",
   "metadata": {},
   "outputs": [
    {
     "name": "stdout",
     "output_type": "stream",
     "text": [
      "FizzBuzz\n"
     ]
    }
   ],
   "source": [
    "# 3. Check if a number is divisible by both 3 and 5\n",
    "n = 15\n",
    "if n % 3 == 0 and n % 5 == 0:\n",
    "    print(\"FizzBuzz\")"
   ]
  },
  {
   "cell_type": "markdown",
   "id": "2d22d433-c9d5-4a60-b24a-b76f4c32785e",
   "metadata": {},
   "source": [
    " Conditional statements are the building blocks of decision-making in Python. Use them to control how your code behaves based on inputs and logic."
   ]
  },
  {
   "cell_type": "markdown",
   "id": "7a0c1e90-0f3f-4b10-a31f-de7c1abdbf55",
   "metadata": {},
   "source": [
    "# Python Loops\n",
    "Python has two primitive loop commands:\n",
    "\n",
    "- for loops\n",
    "- while loops"
   ]
  },
  {
   "cell_type": "markdown",
   "id": "c04bef64-79b7-4ec8-bf0e-ccf3d18ce208",
   "metadata": {
    "jp-MarkdownHeadingCollapsed": true
   },
   "source": [
    "#  for Loops in Python\n",
    "\n",
    "##  What is a `for` Loop?\n",
    "\n",
    "- A `for` loop is used to **iterate over a sequence** (like a list, string, range, etc.).\n",
    "- The for loop does not require an indexing variable to set beforehand.\n",
    "\n",
    "\n",
    "\n",
    "---\n",
    "\n",
    "## 📌 Basic Syntax\n",
    "\n",
    "```python\n",
    "for variable in sequence:\n",
    "    # code block\n"
   ]
  },
  {
   "cell_type": "markdown",
   "id": "adc2c138-d733-402f-9f9d-ab2f4233683d",
   "metadata": {},
   "source": [
    "## Using `range`()\n",
    "- To loop through a set of code a specified number of times, we can use the range() function,\n",
    "- The range() function returns a sequence of numbers, starting from 0 by default, and increments by 1 (by default), and ends at a specified number.\n",
    "\n"
   ]
  },
  {
   "cell_type": "code",
   "execution_count": null,
   "id": "4c7bb942-432a-44ba-bd1b-8d3f58e06d98",
   "metadata": {},
   "outputs": [],
   "source": [
    "# Print numbers from 0 to 4\n",
    "for i in range(5):\n",
    "    print(i)\n",
    "\n",
    "# Print numbers from 1 to 5\n",
    "for i in range(1, 6):\n",
    "    print(i)\n"
   ]
  },
  {
   "cell_type": "markdown",
   "id": "e5efa141-5df4-4352-a66e-5eef1bceae3c",
   "metadata": {},
   "source": [
    "## Loop with range(start, stop, step)\n",
    "- The range() function defaults to 0 as a starting value, however it is possible to specify the starting value by adding a parameter: range(2, 6), which means values from 2 to 6 (but not including 6):\n",
    "\n",
    "- The range() function defaults to increment the sequence by 1, however it is possible to specify the increment value by adding a third parameter: range(2, 30, 3):\n",
    "\n"
   ]
  },
  {
   "cell_type": "code",
   "execution_count": 1,
   "id": "f576d5f9-4ba0-4fc8-85a7-b247a49d0105",
   "metadata": {},
   "outputs": [
    {
     "name": "stdout",
     "output_type": "stream",
     "text": [
      "2\n",
      "3\n",
      "4\n",
      "5\n"
     ]
    }
   ],
   "source": [
    "for x in range(2, 6):\n",
    "  print(x)"
   ]
  },
  {
   "cell_type": "code",
   "execution_count": 2,
   "id": "193eb1b7-5388-411e-989f-2e79148c982d",
   "metadata": {},
   "outputs": [
    {
     "name": "stdout",
     "output_type": "stream",
     "text": [
      "2\n",
      "4\n",
      "6\n",
      "8\n",
      "10\n"
     ]
    }
   ],
   "source": [
    "# Print even numbers from 2 to 10\n",
    "for i in range(2, 11, 2):\n",
    "    print(i)\n"
   ]
  },
  {
   "cell_type": "markdown",
   "id": "19949abb-e52e-411a-86d2-22768a60adae",
   "metadata": {},
   "source": [
    "## Nested for Loops\n",
    "- The \"inner loop\" will be executed one time for each iteration of the \"outer loop\":\n",
    "\n"
   ]
  },
  {
   "cell_type": "code",
   "execution_count": null,
   "id": "a6198347-d21b-41d8-98ad-fae0785baadc",
   "metadata": {},
   "outputs": [],
   "source": [
    "for i in range(1, 4):\n",
    "    for j in range(1, 4):\n",
    "        print(f\"{i} x {j} = {i * j}\")\n"
   ]
  },
  {
   "cell_type": "markdown",
   "id": "eecf2d15-2992-473a-b4fa-490c0532d279",
   "metadata": {},
   "source": [
    "## Practice Problems using for\n"
   ]
  },
  {
   "cell_type": "code",
   "execution_count": null,
   "id": "e91b9198-ce98-427e-aa9a-73c7c3e8e97c",
   "metadata": {},
   "outputs": [],
   "source": [
    "# 1. Print all vowels in a word\n",
    "word = \"education\"\n",
    "for char in word:\n",
    "    if char in 'aeiou':\n",
    "        print(char)\n",
    "\n",
    "# 2. Print multiplication table of a number\n",
    "n = 5\n",
    "for i in range(1, 11):\n",
    "    print(f\"{n} x {i} = {n * i}\")\n",
    "\n",
    "# 3. Print factorial of a number\n",
    "fact = 1\n",
    "num = 5\n",
    "for i in range(1, num + 1):\n",
    "    fact *= i\n",
    "print(\"Factorial:\", fact)\n"
   ]
  },
  {
   "cell_type": "markdown",
   "id": "0b351f20-a458-4510-a0a6-93a9f42030c3",
   "metadata": {},
   "source": [
    "## Summary Table `for`loop\n"
   ]
  },
  {
   "cell_type": "markdown",
   "id": "e057787f-6d75-45f7-8b07-ca22d0c701e4",
   "metadata": {},
   "source": [
    "| Keyword    | Use                                 |\n",
    "| ---------- | ----------------------------------- |\n",
    "| `for`      | Iteration over sequence             |\n",
    "| `range()`  | Generate sequence of numbers        |\n",
    "| `break`    | Exit loop early                     |\n",
    "| `continue` | Skip current iteration              |\n",
    "| `else`     | Executes if loop completes normally |\n"
   ]
  },
  {
   "cell_type": "markdown",
   "id": "b63d6052-60aa-4d32-87a3-5f3522aa3ebf",
   "metadata": {},
   "source": [
    "# `while` Loops in Python\n",
    "\n",
    "## What is a `while` Loop?\n",
    "\n",
    "A `while` loop keeps executing **as long as a condition is True**.\n",
    "\n",
    "---\n",
    "\n",
    "## Basic Syntax\n",
    "\n",
    "```python\n",
    "while condition:\n",
    "    # code block\n",
    "\n",
    "The loop stops when the condition becomes False.\n",
    "\n",
    "\n"
   ]
  },
  {
   "cell_type": "markdown",
   "id": "01c67003-47e2-4503-a025-e77f19424dc1",
   "metadata": {},
   "source": [
    "## Simple Example"
   ]
  },
  {
   "cell_type": "code",
   "execution_count": null,
   "id": "21e8acb8-7ec4-463c-b7ae-d5c72d717c10",
   "metadata": {},
   "outputs": [],
   "source": [
    "i = 1\n",
    "while i <= 5:\n",
    "    print(i)\n",
    "    i += 1\n",
    "# remember to increment i, or else the loop will continue forever.\n",
    "\n"
   ]
  },
  {
   "cell_type": "markdown",
   "id": "059dd569-664b-4012-b8d7-82b506e1fb61",
   "metadata": {},
   "source": [
    "## Infinite Loop (⚠️ Use with care)"
   ]
  },
  {
   "cell_type": "code",
   "execution_count": null,
   "id": "fd1af894-5c49-4120-80d7-3b423978bf49",
   "metadata": {},
   "outputs": [],
   "source": [
    "while True:\n",
    "    print(\"This will run forever!\")\n",
    "    break  # Break added to avoid infinite run\n"
   ]
  },
  {
   "cell_type": "markdown",
   "id": "1a86a9fd-8c9e-417f-b352-ff6aeba41ade",
   "metadata": {},
   "source": [
    "## Avoiding Infinite Loops\n",
    "✅ Always make sure the loop condition will eventually be False."
   ]
  },
  {
   "cell_type": "code",
   "execution_count": null,
   "id": "a81bd10c-e425-4bef-a365-1cc6d565d57d",
   "metadata": {},
   "outputs": [],
   "source": [
    "count = 3\n",
    "while count > 0:\n",
    "    print(count)\n",
    "    count -= 1\n"
   ]
  },
  {
   "cell_type": "markdown",
   "id": "6d04c326-42d4-476d-ad0f-a90ea1e5ebaf",
   "metadata": {},
   "source": [
    "## `while` with `break` and `continue`\n",
    "**break**- With the break statement we can stop the loop even if the while condition is true\n",
    "\n",
    "**continue**-With the continue statement we can stop the current iteration, and continue with the next\n",
    "\n",
    "\n"
   ]
  },
  {
   "cell_type": "code",
   "execution_count": null,
   "id": "c4216b37-8e24-4a6d-8345-12becdc228ad",
   "metadata": {},
   "outputs": [],
   "source": [
    "# break example\n",
    "i = 1\n",
    "while i <= 5:\n",
    "    if i == 3:\n",
    "        break\n",
    "    print(i)\n",
    "    i += 1\n",
    "\n",
    "# continue example\n",
    "i = 0\n",
    "while i < 5:\n",
    "    i += 1\n",
    "    if i == 3:\n",
    "        continue\n",
    "    print(i)\n"
   ]
  },
  {
   "cell_type": "markdown",
   "id": "387be0fc-e2e6-4da8-8758-18c1392e0c28",
   "metadata": {},
   "source": [
    "## `while` Loop with `else`\n",
    "With the else statement we can run a block of code once when the condition no longer is true\n",
    "\n",
    "\n"
   ]
  },
  {
   "cell_type": "code",
   "execution_count": null,
   "id": "50f61e23-69f4-4f67-8648-376c2cb3f627",
   "metadata": {},
   "outputs": [],
   "source": [
    "x = 1\n",
    "while x <= 3:\n",
    "    print(x)\n",
    "    x += 1\n",
    "else:\n",
    "    print(\"Loop finished!\")\n"
   ]
  },
  {
   "cell_type": "markdown",
   "id": "83571cd8-e075-4a14-952a-cf9e2f843e13",
   "metadata": {},
   "source": [
    "## Real-Life Example — User Input"
   ]
  },
  {
   "cell_type": "code",
   "execution_count": 19,
   "id": "11b90772-6dbe-4e09-9ad8-eb6055564115",
   "metadata": {},
   "outputs": [
    {
     "name": "stdin",
     "output_type": "stream",
     "text": [
      "Enter password:  python\n"
     ]
    },
    {
     "name": "stdout",
     "output_type": "stream",
     "text": [
      "Access granted!\n"
     ]
    }
   ],
   "source": [
    "password = \"\"\n",
    "while password != \"python\":\n",
    "    password = input(\"Enter password: \")\n",
    "print(\"Access granted!\")\n"
   ]
  },
  {
   "cell_type": "markdown",
   "id": "635ea523-ac0d-4aea-ac18-39fcfca32e3c",
   "metadata": {},
   "source": [
    "## Practice Problems using while loop"
   ]
  },
  {
   "cell_type": "code",
   "execution_count": null,
   "id": "eca34d4f-9483-4d0e-ade0-e0be4f8769af",
   "metadata": {},
   "outputs": [],
   "source": [
    "# 1. Print numbers from 10 to 1\n",
    "i = 10\n",
    "while i >= 1:\n",
    "    print(i)\n",
    "    i -= 1\n",
    "\n",
    "# 2. Sum of first 5 natural numbers\n",
    "i = 1\n",
    "total = 0\n",
    "while i <= 5:\n",
    "    total += i\n",
    "    i += 1\n",
    "print(\"Sum:\", total)\n",
    "\n",
    "# 3. Keep asking for input until user types \"exit\"\n",
    "text = \"\"\n",
    "while text != \"exit\":\n",
    "    text = input(\"Type 'exit' to quit: \")\n"
   ]
  },
  {
   "cell_type": "markdown",
   "id": "ca06291b-ea3a-4e81-93a2-ca6dd7035f2c",
   "metadata": {},
   "source": [
    "## Summary Table\n"
   ]
  },
  {
   "cell_type": "markdown",
   "id": "a0b3c0be-d0a4-41e3-88b2-3b22cae8407b",
   "metadata": {},
   "source": [
    "| Keyword    | Use                                 |\n",
    "| ---------- | ----------------------------------- |\n",
    "| `while`    | Loop as long as condition is `True` |\n",
    "| `break`    | Exit loop early                     |\n",
    "| `continue` | Skip to next iteration              |\n",
    "| `else`     | Run code if loop ends normally      |\n"
   ]
  },
  {
   "cell_type": "markdown",
   "id": "753db799-402a-4f58-9a87-2014843c466b",
   "metadata": {},
   "source": [
    "✅ while loops are useful when you don't know in advance how many times you'll need to loop — like waiting for user input, reading data until a condition is met, or retrying a task."
   ]
  },
  {
   "cell_type": "code",
   "execution_count": null,
   "id": "40d3f7ac-c48a-4fab-9310-28266b0a13b5",
   "metadata": {},
   "outputs": [],
   "source": []
  }
 ],
 "metadata": {
  "kernelspec": {
   "display_name": "Python 3 (ipykernel)",
   "language": "python",
   "name": "python3"
  },
  "language_info": {
   "codemirror_mode": {
    "name": "ipython",
    "version": 3
   },
   "file_extension": ".py",
   "mimetype": "text/x-python",
   "name": "python",
   "nbconvert_exporter": "python",
   "pygments_lexer": "ipython3",
   "version": "3.13.1"
  }
 },
 "nbformat": 4,
 "nbformat_minor": 5
}
