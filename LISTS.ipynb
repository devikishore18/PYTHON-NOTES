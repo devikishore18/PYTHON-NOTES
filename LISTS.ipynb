{
 "cells": [
  {
   "cell_type": "markdown",
   "id": "111dc9d9-4bb2-48a3-adc2-557fa939566f",
   "metadata": {},
   "source": [
    "##  LISTS IN PYTHON"
   ]
  },
  {
   "cell_type": "markdown",
   "id": "42d2049d-b370-41ed-b850-9a9e2eebb63d",
   "metadata": {},
   "source": [
    "- A **list** is an ordered, mutable (changeable) collection of items and allows duplicate values.\n",
    "- Lists can hold **elements of different data types** — numbers, strings, even other lists!\n",
    "- Lists are **indexed** starting from 0.the first item has index [0], the second item has index [1] etc.\n",
    "- Lists are created using square brackets:\n",
    "\n"
   ]
  },
  {
   "cell_type": "markdown",
   "id": "6b2ac106-c3ad-4a32-85ca-04f967f1121d",
   "metadata": {},
   "source": [
    "###  Syntax:"
   ]
  },
  {
   "cell_type": "markdown",
   "id": "a7eedc98-538c-4896-90ee-cbc60799781d",
   "metadata": {},
   "source": [
    "my_list = [element1, element2, element3]"
   ]
  },
  {
   "cell_type": "markdown",
   "id": "429bbb64-e2c1-4da9-9ff8-2a84d568f10d",
   "metadata": {},
   "source": [
    "### Creating Lists"
   ]
  },
  {
   "cell_type": "code",
   "execution_count": 3,
   "id": "35d35d94-f1c4-4b8c-83ad-e598b702e76f",
   "metadata": {},
   "outputs": [],
   "source": [
    "# List of strings\n",
    "fruits = ['apple', 'banana', 'mango']\n",
    "\n",
    "# List of integers\n",
    "numbers = [10, 20, 30, 40]\n",
    "\n",
    "# Mixed data types\n",
    "mixed = ['John', 25, True]\n",
    "\n",
    "# Nested list\n",
    "matrix = [[1, 2], [3, 4]]"
   ]
  },
  {
   "cell_type": "markdown",
   "id": "ea36453d-3ff5-49e5-8e4f-8c3de21a9977",
   "metadata": {},
   "source": [
    "### Accessing Elements\n",
    "-List items are indexed and you can access them by referring to the index number\n",
    "\n",
    "-Negative indexing means start from the end\n",
    "\n",
    "-1 refers to the last item, -2 refers to the second last item etc."
   ]
  },
  {
   "cell_type": "code",
   "execution_count": 4,
   "id": "ca90b5df-55d2-4aba-9427-4b56028a99ec",
   "metadata": {},
   "outputs": [
    {
     "name": "stdout",
     "output_type": "stream",
     "text": [
      "apple\n",
      "mango\n"
     ]
    }
   ],
   "source": [
    "print(fruits[0])      # First element\n",
    "print(fruits[-1])     # Last element"
   ]
  },
  {
   "cell_type": "markdown",
   "id": "4a16fc08-7d41-4f82-a48e-0fcfabc213bf",
   "metadata": {},
   "source": [
    "- You can specify a range of indexes by specifying where to start and where to end the range.\n",
    "\n",
    "- When specifying a range, the return value will be a new list with the specified items."
   ]
  },
  {
   "cell_type": "code",
   "execution_count": 2,
   "id": "8c367eac-800d-45fd-84d9-6b0c574687e1",
   "metadata": {},
   "outputs": [
    {
     "name": "stdout",
     "output_type": "stream",
     "text": [
      "['cherry', 'orange', 'kiwi']\n",
      "['apple', 'banana', 'cherry', 'orange']\n",
      "['cherry', 'orange', 'kiwi', 'melon', 'mango']\n",
      "['orange', 'kiwi', 'melon']\n"
     ]
    }
   ],
   "source": [
    "thislist = [\"apple\", \"banana\", \"cherry\", \"orange\", \"kiwi\", \"melon\", \"mango\"]\n",
    "print(thislist[2:5])\n",
    "print(thislist[:4])\n",
    "print(thislist[2:])\n",
    "print(thislist[-4:-1])"
   ]
  },
  {
   "cell_type": "markdown",
   "id": "ec3182f6-61e3-49a6-9fc1-addecd53e799",
   "metadata": {},
   "source": [
    "### List Operations"
   ]
  },
  {
   "cell_type": "code",
   "execution_count": null,
   "id": "9a494a0b-65d2-4435-acbb-ef2063b32fd5",
   "metadata": {},
   "outputs": [],
   "source": [
    "fruits.append('orange')       # Add to end\n",
    "fruits.insert(1, 'grape')     # Insert at index\n",
    "fruits.remove('banana')       # Remove by value\n",
    "fruits.pop()                  # Remove last item\n",
    "print(len(fruits))            # Number of elements\n",
    "#The del keyword can also delete the list completely.\n",
    "#The clear() method empties the list.The list still remains, but it has no content."
   ]
  },
  {
   "cell_type": "markdown",
   "id": "0bcd0068-9029-4b5f-af25-0dcd1f848966",
   "metadata": {},
   "source": [
    "### Slicing Lists"
   ]
  },
  {
   "cell_type": "code",
   "execution_count": 6,
   "id": "acc92bbe-e6d3-4fdb-8554-71f5afa9548b",
   "metadata": {},
   "outputs": [
    {
     "name": "stdout",
     "output_type": "stream",
     "text": [
      "[20, 30]\n",
      "[10, 20]\n",
      "[40, 30, 20, 10]\n"
     ]
    }
   ],
   "source": [
    "print(numbers[1:3])    # [20, 30]\n",
    "print(numbers[:2])     # [10, 20]\n",
    "print(numbers[::-1])   # Reversed list"
   ]
  },
  {
   "cell_type": "markdown",
   "id": "02607b64-ee36-4528-a1c4-7746b303b82c",
   "metadata": {},
   "source": [
    "### Looping through a List"
   ]
  },
  {
   "cell_type": "code",
   "execution_count": 5,
   "id": "77ddb5e9-fcaa-491e-9074-4a3d386220c1",
   "metadata": {},
   "outputs": [
    {
     "name": "stdout",
     "output_type": "stream",
     "text": [
      "APPLE\n",
      "BANANA\n",
      "MANGO\n"
     ]
    }
   ],
   "source": [
    "for fruit in fruits:\n",
    "    print(fruit.upper())"
   ]
  },
  {
   "cell_type": "code",
   "execution_count": 8,
   "id": "32cc31cc-ef1a-4513-8c7c-4f3827b2352d",
   "metadata": {},
   "outputs": [
    {
     "name": "stdout",
     "output_type": "stream",
     "text": [
      "apple\n",
      "banana\n",
      "cherry\n"
     ]
    }
   ],
   "source": [
    "thislist = [\"apple\", \"banana\", \"cherry\"]\n",
    "for i in range(len(thislist)):\n",
    "  print(thislist[i])"
   ]
  },
  {
   "cell_type": "code",
   "execution_count": 9,
   "id": "82250ae4-5dbd-4472-8bc4-2b2a0d37f02a",
   "metadata": {},
   "outputs": [
    {
     "name": "stdout",
     "output_type": "stream",
     "text": [
      "apple\n",
      "banana\n",
      "cherry\n"
     ]
    }
   ],
   "source": [
    "thislist = [\"apple\", \"banana\", \"cherry\"]\n",
    "i = 0\n",
    "while i < len(thislist):\n",
    "  print(thislist[i])\n",
    "  i = i + 1"
   ]
  },
  {
   "cell_type": "markdown",
   "id": "7502eeb3-ec33-4da9-b747-45ac48ef4891",
   "metadata": {},
   "source": [
    "## Sort Lists"
   ]
  },
  {
   "cell_type": "markdown",
   "id": "6b838142-cfba-4467-af9c-840b23f1dfb3",
   "metadata": {},
   "source": [
    "- List objects have a sort() method that will sort the list alphanumerically, ascending, by default.\n",
    "- To sort descending, use the keyword argument reverse = True.\n",
    "- You can also customize your own function by using the keyword argument key = function. The function will return a number that will be used to sort the list (the lowest number first):\n",
    "- By default the sort() method is case sensitive, resulting in all capital letters being sorted before lower case letters.\n",
    "- The reverse() method reverses the current sorting order of the elements.\n",
    "\n"
   ]
  },
  {
   "cell_type": "markdown",
   "id": "9d523299-f318-4abe-8325-ce2e1f4b6565",
   "metadata": {},
   "source": [
    "## Copy Lists"
   ]
  },
  {
   "cell_type": "markdown",
   "id": "943190db-3c45-4514-8c59-d00cd418165f",
   "metadata": {},
   "source": [
    "- You can use the built-in List method copy() to copy a list.\n",
    "- You can also make a copy of a list by using the : (slice) operator.\n",
    "\n"
   ]
  },
  {
   "cell_type": "code",
   "execution_count": 13,
   "id": "5223883d-294c-4a13-a8e1-90e176cfabf9",
   "metadata": {},
   "outputs": [
    {
     "name": "stdout",
     "output_type": "stream",
     "text": [
      "['apple', 'banana', 'cherry']\n"
     ]
    }
   ],
   "source": [
    "thislist = [\"apple\", \"banana\", \"cherry\"]\n",
    "mylist = thislist.copy()\n",
    "print(mylist)"
   ]
  },
  {
   "cell_type": "code",
   "execution_count": 14,
   "id": "39cd85b5-0556-455c-968b-ee3053661025",
   "metadata": {},
   "outputs": [
    {
     "name": "stdout",
     "output_type": "stream",
     "text": [
      "['apple', 'banana', 'cherry']\n"
     ]
    }
   ],
   "source": [
    "thislist = [\"apple\", \"banana\", \"cherry\"]\n",
    "mylist = thislist[:]\n",
    "print(mylist)"
   ]
  },
  {
   "cell_type": "markdown",
   "id": "6670022f-b0df-4424-b543-c0e5c880a0a0",
   "metadata": {},
   "source": [
    "### List Comprehensions\n",
    "- List comprehension offers a shorter syntax when you want to create a new list based on the values of an existing list.\n",
    "- **SYNTAX**- **newlist = [expression for item in iterable if condition == True]**\n"
   ]
  },
  {
   "cell_type": "markdown",
   "id": "6f07a6af-327b-4bc0-a15b-8702c707de2a",
   "metadata": {},
   "source": [
    "- **Condition**\n",
    "The condition is like a filter that only accepts the items that evaluate to True.\n",
    "The condition is optional and can be omitted:\n",
    "\n",
    "- **Iterable**\n",
    "The iterable can be any iterable object, like a list, tuple, set etc.\n",
    "\n",
    "- **Expression**\n",
    "The expression is the current item in the iteration, but it is also the outcome, which you can manipulate before it ends up like a list item in the new list:\n",
    "\n"
   ]
  },
  {
   "cell_type": "code",
   "execution_count": 4,
   "id": "fed4a31b-b697-41ec-95eb-37d607b5c322",
   "metadata": {},
   "outputs": [
    {
     "name": "stdout",
     "output_type": "stream",
     "text": [
      "[0, 1, 4, 9, 16]\n"
     ]
    }
   ],
   "source": [
    "# Squares of numbers\n",
    "squares = [x**2 for x in range(5)]\n",
    "print(squares)"
   ]
  },
  {
   "cell_type": "markdown",
   "id": "6da1780e-d91f-4524-81e3-cc15e597d2c2",
   "metadata": {},
   "source": [
    "### Practice"
   ]
  },
  {
   "cell_type": "code",
   "execution_count": 1,
   "id": "3c37bbd9-783c-4d59-8f64-6f0f9bd770d4",
   "metadata": {},
   "outputs": [
    {
     "name": "stdout",
     "output_type": "stream",
     "text": [
      "['Bangalore', 'Chennai', 'Delhi', 'Kolkata', 'Mumbai']\n"
     ]
    }
   ],
   "source": [
    "# 1. Create a list of 5 cities and sort it\n",
    "cities = ['Mumbai', 'Delhi', 'Chennai', 'Kolkata', 'Bangalore']\n",
    "cities.sort()\n",
    "print(cities)"
   ]
  },
  {
   "cell_type": "code",
   "execution_count": 2,
   "id": "b796e8f4-284c-4399-a6aa-27d0bb4fab79",
   "metadata": {},
   "outputs": [
    {
     "name": "stdout",
     "output_type": "stream",
     "text": [
      "['Bangalore', 'Chennai', 'Kolkata', 'Mumbai']\n"
     ]
    }
   ],
   "source": [
    "# 2. Remove the 3rd city and print the list\n",
    "cities.pop(2)\n",
    "print(cities)"
   ]
  },
  {
   "cell_type": "code",
   "execution_count": 3,
   "id": "bb3f6c49-3dd8-4e9c-be0e-c99625c8f638",
   "metadata": {},
   "outputs": [
    {
     "name": "stdout",
     "output_type": "stream",
     "text": [
      "[9, 7, 7, 6]\n"
     ]
    }
   ],
   "source": [
    "# 3. Use a list comprehension to get lengths of each city name\n",
    "lengths = [len(city) for city in cities]\n",
    "print(lengths)"
   ]
  },
  {
   "cell_type": "markdown",
   "id": "ed1b089f-f8a0-4e01-b52a-7b6b918b391e",
   "metadata": {},
   "source": [
    "### Common List Methods\n"
   ]
  },
  {
   "cell_type": "markdown",
   "id": "92ffefbf-dc1d-4a36-9fac-dee532d35d32",
   "metadata": {},
   "source": [
    "| Method         | Description                      |\n",
    "| -------------- | -------------------------------- |\n",
    "| `append(x)`    | Add item `x` to the end          |\n",
    "| `insert(i, x)` | Insert item `x` at position `i`  |\n",
    "| `remove(x)`    | Remove first occurrence of `x`   |\n",
    "| `pop(i)`       | Remove and return item at `i`    |\n",
    "| `sort()`       | Sort the list in ascending order |\n",
    "| `reverse()`    | Reverse the list                 |\n",
    "| `len(list)`    | Return the number of items       |\n"
   ]
  },
  {
   "cell_type": "code",
   "execution_count": null,
   "id": "d5d9e7b8-9eda-414a-a03f-9e5c1a6c3654",
   "metadata": {},
   "outputs": [],
   "source": []
  }
 ],
 "metadata": {
  "kernelspec": {
   "display_name": "Python 3 (ipykernel)",
   "language": "python",
   "name": "python3"
  },
  "language_info": {
   "codemirror_mode": {
    "name": "ipython",
    "version": 3
   },
   "file_extension": ".py",
   "mimetype": "text/x-python",
   "name": "python",
   "nbconvert_exporter": "python",
   "pygments_lexer": "ipython3",
   "version": "3.13.1"
  }
 },
 "nbformat": 4,
 "nbformat_minor": 5
}
