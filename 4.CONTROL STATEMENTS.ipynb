{
 "cells": [
  {
   "cell_type": "markdown",
   "id": "a4d3c0c5-13cb-4e1a-a600-0fc2f038a7c0",
   "metadata": {},
   "source": [
    "# CONTROL STATEMENTS\n",
    "\n",
    "## What are Control Statements?\n",
    "\n",
    "Control statements allow you to **change the flow** of execution in a program — like skipping an iteration, breaking out of loops, or returning early from a function.\n",
    "\n",
    "---\n",
    "\n",
    "## Types of Control Statements\n",
    "\n",
    "1. `break` – Exit a loop immediately  \n",
    "2. `continue` – Skip the current iteration and move to the next  \n",
    "3. `pass` – Do nothing (placeholder)  \n",
    "4. `return` – Exit a function and optionally return a value\n",
    "\n",
    "---\n",
    "\n",
    "## `break` Statement\n",
    "\n",
    "Used to **terminate a loop** when a condition is met.\n"
   ]
  },
  {
   "cell_type": "code",
   "execution_count": 4,
   "id": "3bc4ab14-bb40-409d-86c9-2c0e3291b8ef",
   "metadata": {},
   "outputs": [
    {
     "name": "stdout",
     "output_type": "stream",
     "text": [
      "1\n",
      "2\n",
      "3\n",
      "4\n"
     ]
    }
   ],
   "source": [
    "for i in range(1, 10):\n",
    "    if i == 5:\n",
    "        break\n",
    "    print(i)"
   ]
  },
  {
   "cell_type": "markdown",
   "id": "9e62375b-6fb7-4bf8-9c8e-a950fc88b7c1",
   "metadata": {},
   "source": [
    "## `continue` Statement\n",
    "Used to skip the current iteration and move to the next."
   ]
  },
  {
   "cell_type": "code",
   "execution_count": 3,
   "id": "cecc0ebf-2a0b-43ed-8b13-95b343020ef0",
   "metadata": {},
   "outputs": [
    {
     "name": "stdout",
     "output_type": "stream",
     "text": [
      "1\n",
      "2\n",
      "4\n",
      "5\n"
     ]
    }
   ],
   "source": [
    "for i in range(1, 6):\n",
    "    if i == 3:\n",
    "        continue\n",
    "    print(i)\n"
   ]
  },
  {
   "cell_type": "markdown",
   "id": "5f85690b-bb75-4565-945e-3badddbde435",
   "metadata": {},
   "source": [
    "## `pass` Statement\n",
    "Used as a placeholder for future code. It does nothing."
   ]
  },
  {
   "cell_type": "code",
   "execution_count": 2,
   "id": "a3f66d5f-df6e-479f-a319-54bf7f1f0908",
   "metadata": {},
   "outputs": [],
   "source": [
    "for i in range(3):\n",
    "    pass  # Placeholder for future logic\n"
   ]
  },
  {
   "cell_type": "markdown",
   "id": "5a4f0c3b-f862-4b00-8ade-06084d5ff8f7",
   "metadata": {},
   "source": [
    "Also used in empty function/class blocks:"
   ]
  },
  {
   "cell_type": "code",
   "execution_count": 5,
   "id": "e175de89-4b2b-419a-a6b1-1dfe0428d9ea",
   "metadata": {},
   "outputs": [],
   "source": [
    "def future_function():\n",
    "    pass\n"
   ]
  },
  {
   "cell_type": "markdown",
   "id": "85569ba7-7372-42be-97cc-2aaf21dd3702",
   "metadata": {},
   "source": [
    "## `return` Statement\n",
    "Used to exit a function and optionally return a value."
   ]
  },
  {
   "cell_type": "code",
   "execution_count": 6,
   "id": "de4076b4-a23d-44b2-807e-2fdc63749ad2",
   "metadata": {},
   "outputs": [
    {
     "name": "stdout",
     "output_type": "stream",
     "text": [
      "True\n"
     ]
    }
   ],
   "source": [
    "def is_even(num):\n",
    "    if num % 2 == 0:\n",
    "        return True\n",
    "    return False\n",
    "\n",
    "print(is_even(4))  # True\n"
   ]
  },
  {
   "cell_type": "markdown",
   "id": "8ca60b40-489e-4798-b7a1-147e3f4c27c8",
   "metadata": {},
   "source": [
    "## Practical Examples"
   ]
  },
  {
   "cell_type": "code",
   "execution_count": null,
   "id": "77ad4fc2-3b75-4cf5-b7ad-1c3db5b5551a",
   "metadata": {},
   "outputs": [],
   "source": [
    "# 1. Using break to stop when a number is found\n",
    "nums = [1, 3, 5, 7, 9, 10]\n",
    "for n in nums:\n",
    "    if n % 2 == 0:\n",
    "        print(\"Even number found:\", n)\n",
    "        break\n",
    "\n",
    "# 2. Skipping even numbers with continue\n",
    "for n in range(1, 6):\n",
    "    if n % 2 == 0:\n",
    "        continue\n",
    "    print(n)  # Prints only odd numbers\n",
    "\n",
    "# 3. Empty function using pass\n",
    "def todo():\n",
    "    pass\n"
   ]
  },
  {
   "cell_type": "markdown",
   "id": "a9661919-028f-4e18-b57f-4473b8b03859",
   "metadata": {},
   "source": [
    "## Summary Table"
   ]
  },
  {
   "cell_type": "markdown",
   "id": "3c66283d-95e7-457f-bde0-4f686588295b",
   "metadata": {},
   "source": [
    "| Statement  | Purpose                           |\n",
    "| ---------- | --------------------------------- |\n",
    "| `break`    | Exit the nearest loop immediately |\n",
    "| `continue` | Skip current loop iteration       |\n",
    "| `pass`     | Do nothing (used as placeholder)  |\n",
    "| `return`   | Exit a function and return value  |\n"
   ]
  },
  {
   "cell_type": "markdown",
   "id": "b9b6d415-3d2d-46fe-9a40-fc03564983a7",
   "metadata": {},
   "source": [
    " Control statements make your Python code flexible and responsive. Use them to control loops, manage logic, and write cleaner functions."
   ]
  }
 ],
 "metadata": {
  "kernelspec": {
   "display_name": "Python 3 (ipykernel)",
   "language": "python",
   "name": "python3"
  },
  "language_info": {
   "codemirror_mode": {
    "name": "ipython",
    "version": 3
   },
   "file_extension": ".py",
   "mimetype": "text/x-python",
   "name": "python",
   "nbconvert_exporter": "python",
   "pygments_lexer": "ipython3",
   "version": "3.13.1"
  }
 },
 "nbformat": 4,
 "nbformat_minor": 5
}
