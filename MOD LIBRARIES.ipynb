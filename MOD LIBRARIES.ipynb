{
 "cells": [
  {
   "cell_type": "markdown",
   "id": "9340f710-736c-4505-af08-d8a97d18a1fe",
   "metadata": {},
   "source": [
    "# Python Libraries Overview\n",
    "\n",
    "## What is a Python Library?\n",
    "\n",
    "A **library** is a collection of modules and functions you can import into your code to perform specific tasks — such as data analysis, web development, machine learning, and more.\n",
    "\n",
    "---\n",
    "\n",
    "## How to Use a Library\n",
    "\n",
    "```python\n",
    "# Import entire library\n",
    "import math\n",
    "\n",
    "# Import a specific function\n",
    "from math import sqrt\n",
    "\n",
    "# Rename while importing\n",
    "import numpy as np\n"
   ]
  },
  {
   "cell_type": "markdown",
   "id": "ee3d50b4-61a9-49ad-97ec-6a5ff5f19a91",
   "metadata": {},
   "source": [
    "## Built-in Standard Libraries"
   ]
  },
  {
   "cell_type": "markdown",
   "id": "4a6f80af-8279-4906-a55b-64023b1a3c4f",
   "metadata": {},
   "source": [
    "| Library    | Purpose                        | Example Usage           |\n",
    "| ---------- | ------------------------------ | ----------------------- |\n",
    "| `math`     | Math operations                | `math.sqrt(25)`         |\n",
    "| `random`   | Generate random numbers        | `random.randint(1, 10)` |\n",
    "| `datetime` | Date and time manipulation     | `datetime.now()`        |\n",
    "| `os`       | Interact with operating system | `os.listdir()`          |\n",
    "| `sys`      | Access Python interpreter info | `sys.argv`              |\n"
   ]
  },
  {
   "cell_type": "markdown",
   "id": "d1aace1c-1cbd-4717-8c2e-ea8bb23f420c",
   "metadata": {},
   "source": [
    "## Example: Using `math` and `random`"
   ]
  },
  {
   "cell_type": "code",
   "execution_count": 1,
   "id": "b099b257-cd89-4c12-902f-b4964bb34fb8",
   "metadata": {},
   "outputs": [
    {
     "name": "stdout",
     "output_type": "stream",
     "text": [
      "Square root of 64: 8.0\n",
      "Random number: 93\n"
     ]
    }
   ],
   "source": [
    "import math\n",
    "import random\n",
    "\n",
    "print(\"Square root of 64:\", math.sqrt(64))\n",
    "print(\"Random number:\", random.randint(1, 100))\n"
   ]
  },
  {
   "cell_type": "markdown",
   "id": "2845d7c8-c2bb-4821-9fad-427209289627",
   "metadata": {},
   "source": [
    "## Popular Third-Party Libraries"
   ]
  },
  {
   "cell_type": "markdown",
   "id": "573ce1cb-e84b-4b36-9f9d-464f3be1fac0",
   "metadata": {},
   "source": [
    "Install with: **pip install library_name**\n",
    "\n"
   ]
  },
  {
   "cell_type": "markdown",
   "id": "30439cef-c83d-4ca5-a04d-31ddb199fa50",
   "metadata": {},
   "source": [
    "| Library        | Use Case             | Example                                                |\n",
    "| -------------- | -------------------- | ------------------------------------------------------ |\n",
    "| `numpy`        | Numerical computing  | `np.array([1, 2, 3])`                                  |\n",
    "| `pandas`       | Data manipulation    | `pd.DataFrame()`                                       |\n",
    "| `matplotlib`   | Data visualization   | `plt.plot()`                                           |\n",
    "| `seaborn`      | Statistical plots    | `sns.heatmap()`                                        |\n",
    "| `scikit-learn` | Machine learning     | `from sklearn.model_selection import train_test_split` |\n",
    "| `requests`     | HTTP requests (APIs) | `requests.get()`                                       |\n",
    "| `flask`        | Web app framework    | `Flask(__name__)`                                      |\n"
   ]
  },
  {
   "cell_type": "markdown",
   "id": "240e6b82-6975-46e1-9c17-97dccab83af3",
   "metadata": {},
   "source": [
    "## Example: Data Analysis\n"
   ]
  },
  {
   "cell_type": "code",
   "execution_count": 2,
   "id": "50c329e1-6cb6-47f9-94dd-83a8e7ed20ee",
   "metadata": {},
   "outputs": [
    {
     "name": "stdout",
     "output_type": "stream",
     "text": [
      "    Name  Age\n",
      "0  Alice   25\n",
      "1    Bob   30\n"
     ]
    }
   ],
   "source": [
    "import pandas as pd\n",
    "\n",
    "data = {'Name': ['Alice', 'Bob'], 'Age': [25, 30]}\n",
    "df = pd.DataFrame(data)\n",
    "print(df)\n"
   ]
  },
  {
   "cell_type": "markdown",
   "id": "a875a46e-4cd9-4d78-bf20-7a8a35c01a80",
   "metadata": {},
   "source": [
    "## Example: Plotting a Chart"
   ]
  },
  {
   "cell_type": "code",
   "execution_count": 5,
   "id": "2a325e4a-f8c6-44c2-b765-2e568c8ae2cd",
   "metadata": {},
   "outputs": [
    {
     "data": {
      "image/png": "[encoded data removed]",
      "text/plain": [
       "<Figure size 640x480 with 1 Axes>"
      ]
     },
     "metadata": {},
     "output_type": "display_data"
    }
   ],
   "source": [
    "import matplotlib.pyplot as plt\n",
    "\n",
    "x = [1, 2, 3, 4]\n",
    "y = [10, 20, 25, 30]\n",
    "plt.plot(x, y)\n",
    "plt.title(\"Simple Line Chart\")\n",
    "plt.xlabel(\"X-axis\")\n",
    "plt.ylabel(\"Y-axis\")\n",
    "plt.show()\n"
   ]
  },
  {
   "cell_type": "markdown",
   "id": "d06547e7-608f-4dac-baee-30e55eb36d34",
   "metadata": {},
   "source": [
    "## Organizing Custom Code as a Module"
   ]
  },
  {
   "cell_type": "code",
   "execution_count": null,
   "id": "0f0416db-551f-4af5-8775-9f1b74bc1b43",
   "metadata": {},
   "outputs": [],
   "source": [
    "You can even create your own library (module):\n"
   ]
  },
  {
   "cell_type": "code",
   "execution_count": null,
   "id": "a8e079a1-1dc7-476e-8402-a12e2b330261",
   "metadata": {},
   "outputs": [],
   "source": [
    "my_utils.py:\n",
    "def greet(name):\n",
    "    return f\"Hello, {name}!\"\n"
   ]
  },
  {
   "cell_type": "code",
   "execution_count": null,
   "id": "3dcf5bff-f810-45c6-aaaf-f28f6b03bf3e",
   "metadata": {},
   "outputs": [],
   "source": [
    "main file:\n",
    "import my_utils\n",
    "print(my_utils.greet(\"Devi\"))\n",
    "\n"
   ]
  },
  {
   "cell_type": "markdown",
   "id": "30aad18b-8a08-446d-9189-1e39e56eede4",
   "metadata": {},
   "source": [
    " ## Summary"
   ]
  },
  {
   "cell_type": "markdown",
   "id": "dd71cc8f-c89b-4a7c-9ff5-ac9d18bc5823",
   "metadata": {},
   "source": [
    "| Type     | Examples                      |\n",
    "| -------- | ----------------------------- |\n",
    "| Built-in | `math`, `random`, `os`, `sys` |\n",
    "| Data     | `numpy`, `pandas`             |\n",
    "| Viz      | `matplotlib`, `seaborn`       |\n",
    "| Web/API  | `flask`, `requests`           |\n",
    "| ML/AI    | `scikit-learn`, `tensorflow`  |\n",
    "| Custom   | Your own `.py` modules        |\n"
   ]
  },
  {
   "cell_type": "markdown",
   "id": "97167605-5ade-49a2-a64d-e1067f11a62a",
   "metadata": {},
   "source": [
    " Python libraries save you time, reduce errors, and supercharge your productivity — from simple tasks to AI-powered projects.\n"
   ]
  },
  {
   "cell_type": "code",
   "execution_count": null,
   "id": "bf2869bd-7886-410f-bde6-0f8b689e8f0d",
   "metadata": {},
   "outputs": [],
   "source": []
  }
 ],
 "metadata": {
  "kernelspec": {
   "display_name": "Python 3 (ipykernel)",
   "language": "python",
   "name": "python3"
  },
  "language_info": {
   "codemirror_mode": {
    "name": "ipython",
    "version": 3
   },
   "file_extension": ".py",
   "mimetype": "text/x-python",
   "name": "python",
   "nbconvert_exporter": "python",
   "pygments_lexer": "ipython3",
   "version": "3.13.1"
  }
 },
 "nbformat": 4,
 "nbformat_minor": 5
}
