{
 "cells": [
  {
   "cell_type": "markdown",
   "id": "af8c5435-8420-4d5e-af22-51f2f7811a0b",
   "metadata": {},
   "source": [
    "# 🔎 Python `re` Module (Regular Expressions)\n",
    "\n",
    "The **`re` module** in Python provides full support for **regular expressions (regex)**, which are powerful tools for searching, matching, and manipulating text patterns.\n",
    "\n",
    "---\n",
    "\n",
    "## 📘 What is a Regular Expression?\n",
    "\n",
    "A **Regular Expression (Regex)** is a sequence of characters that define a search pattern, commonly used for:\n",
    "- Searching text\n",
    "- Replacing text\n",
    "- Validating input (e.g., email, phone number)\n",
    "- Extracting specific substrings\n",
    "\n",
    "---\n",
    "\n",
    "## 🧰 Common Functions in `re` Module\n",
    "\n",
    "### 1. `re.match()`\n",
    "Checks for a match **only at the beginning** of the string.\n",
    "\n"
   ]
  },
  {
   "cell_type": "code",
   "execution_count": 1,
   "id": "ff3f41b4-e9c2-4eea-a5fd-100c4ef6ff88",
   "metadata": {},
   "outputs": [
    {
     "name": "stdout",
     "output_type": "stream",
     "text": [
      "<re.Match object; span=(0, 6), match='Python'>\n"
     ]
    }
   ],
   "source": [
    "import re\n",
    "text = \"Python is great\"\n",
    "result = re.match(\"Python\", text)\n",
    "print(result)  # Match object (found)\n"
   ]
  },
  {
   "cell_type": "markdown",
   "id": "1e8654c7-167b-4169-920d-c4549bcb15b4",
   "metadata": {},
   "source": [
    "## 2. re.search()\n",
    "\n",
    "Searches for a match anywhere in the string."
   ]
  },
  {
   "cell_type": "code",
   "execution_count": 2,
   "id": "ff601b6f-eeed-4c8a-ac84-0bbc08cde9db",
   "metadata": {},
   "outputs": [
    {
     "name": "stdout",
     "output_type": "stream",
     "text": [
      "<re.Match object; span=(10, 15), match='great'>\n"
     ]
    }
   ],
   "source": [
    "result = re.search(\"great\", text)\n",
    "print(result)  # Match object\n"
   ]
  },
  {
   "cell_type": "markdown",
   "id": "44f14d31-9ebc-4bda-a7e9-37c9dec9392d",
   "metadata": {},
   "source": [
    "## 3. re.findall()\n",
    "\n",
    "Returns a list of all matches in the string."
   ]
  },
  {
   "cell_type": "code",
   "execution_count": 3,
   "id": "d58948f2-e308-4dbb-af5c-4b1208f526b0",
   "metadata": {},
   "outputs": [
    {
     "name": "stdout",
     "output_type": "stream",
     "text": [
      "['apple', 'apple']\n"
     ]
    }
   ],
   "source": [
    "text = \"apple banana apple orange\"\n",
    "result = re.findall(\"apple\", text)\n",
    "print(result)  # ['apple', 'apple']\n"
   ]
  },
  {
   "cell_type": "markdown",
   "id": "57dc25ac-216a-4c76-9909-aa5a78e65f20",
   "metadata": {},
   "source": [
    "## 4. re.finditer()\n",
    "\n",
    "Returns an iterator of match objects, useful for detailed matches."
   ]
  },
  {
   "cell_type": "code",
   "execution_count": 4,
   "id": "516aeb24-4a00-4ef2-9cfa-d84963fa959e",
   "metadata": {},
   "outputs": [
    {
     "name": "stdout",
     "output_type": "stream",
     "text": [
      "(0, 5) apple\n",
      "(13, 18) apple\n"
     ]
    }
   ],
   "source": [
    "for match in re.finditer(\"apple\", text):\n",
    "    print(match.span(), match.group())\n"
   ]
  },
  {
   "cell_type": "markdown",
   "id": "0901795b-b9c7-40d2-b8f1-23f258ad95fa",
   "metadata": {},
   "source": [
    "## 5. re.sub()\n",
    "\n",
    "Replaces one or more matches with a given string."
   ]
  },
  {
   "cell_type": "code",
   "execution_count": 5,
   "id": "165f1c41-de79-427a-9fed-f6b649f9331c",
   "metadata": {},
   "outputs": [
    {
     "name": "stdout",
     "output_type": "stream",
     "text": [
      "I love Python\n"
     ]
    }
   ],
   "source": [
    "text = \"I love Java\"\n",
    "result = re.sub(\"Java\", \"Python\", text)\n",
    "print(result)  # I love Python\n"
   ]
  },
  {
   "cell_type": "markdown",
   "id": "ec664434-8bb7-4298-ae37-757e320e0203",
   "metadata": {},
   "source": [
    "## 6. re.split()\n",
    "\n",
    "Splits a string by occurrences of the pattern."
   ]
  },
  {
   "cell_type": "code",
   "execution_count": 6,
   "id": "993f9468-72e8-4d71-85b4-cef8ff142471",
   "metadata": {},
   "outputs": [
    {
     "name": "stdout",
     "output_type": "stream",
     "text": [
      "['one', 'two', 'three', 'four']\n"
     ]
    }
   ],
   "source": [
    "text = \"one,two;three four\"\n",
    "result = re.split(\"[,; ]\", text)\n",
    "print(result)  # ['one', 'two', 'three', 'four']\n"
   ]
  },
  {
   "cell_type": "markdown",
   "id": "6a92e257-6cd8-4fe8-86f8-16e769020bd1",
   "metadata": {},
   "source": [
    "| Pattern | Meaning                           | Example Match        |\n",
    "| ------- | --------------------------------- | -------------------- |\n",
    "| `.`     | Any character except newline      | `a.c` → \"abc\", \"axc\" |\n",
    "| `^`     | Start of string                   | `^Hello`             |\n",
    "| `$`     | End of string                     | `world$`             |\n",
    "| `\\d`    | Digit (0–9)                       | \"123\"                |\n",
    "| `\\D`    | Non-digit                         | \"abc\"                |\n",
    "| `\\w`    | Word character (a-z, A-Z, 0-9,\\_) | \"Python3\"            |\n",
    "| `\\W`    | Non-word character                | \"!\" or \"@\"           |\n",
    "| `\\s`    | Whitespace                        | \" \" (space, tab)     |\n",
    "| `+`     | One or more                       | `a+` → \"a\", \"aaa\"    |\n",
    "| `*`     | Zero or more                      | `ba*` → \"b\", \"baaa\"  |\n",
    "| `?`     | Zero or one                       | `a?` → \"a\", \"\"       |\n",
    "| `{n}`   | Exactly n repetitions             | `a{3}` → \"aaa\"       |\n",
    "| `{n,m}` | Between n and m repetitions       | `a{2,4}`             |\n"
   ]
  },
  {
   "cell_type": "code",
   "execution_count": null,
   "id": "441b53d5-efd6-43e2-8fcd-ee234a2947b6",
   "metadata": {},
   "outputs": [],
   "source": []
  }
 ],
 "metadata": {
  "kernelspec": {
   "display_name": "Python 3 (ipykernel)",
   "language": "python",
   "name": "python3"
  },
  "language_info": {
   "codemirror_mode": {
    "name": "ipython",
    "version": 3
   },
   "file_extension": ".py",
   "mimetype": "text/x-python",
   "name": "python",
   "nbconvert_exporter": "python",
   "pygments_lexer": "ipython3",
   "version": "3.13.1"
  }
 },
 "nbformat": 4,
 "nbformat_minor": 5
}
